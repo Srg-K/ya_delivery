{
 "cells": [
  {
   "cell_type": "code",
   "execution_count": 1,
   "id": "63ac8e31",
   "metadata": {},
   "outputs": [],
   "source": [
    "import pandas as pd\n",
    "import numpy as np\n",
    "from tqdm import tqdm\n",
    "\n",
    "from statsmodels.stats.weightstats import ttest_ind\n",
    "from statsmodels.stats.power import tt_ind_solve_power, GofChisquarePower\n",
    "from statsmodels.stats.gof import chisquare_effectsize\n",
    "from statsmodels.sandbox.stats.multicomp import multipletests\n",
    "from scipy.stats import norm, chi2_contingency, mannwhitneyu\n",
    "from random import randint\n",
    "from scipy import stats "
   ]
  },
  {
   "cell_type": "code",
   "execution_count": 2,
   "id": "1719715b",
   "metadata": {},
   "outputs": [],
   "source": [
    "N = 200\n",
    "mu = 50 \n",
    "mean = 10\n",
    "lift = 1.1\n",
    "pwr = 0.8 \n",
    "alpha = 0.05\n",
    "sd = 10"
   ]
  },
  {
   "cell_type": "markdown",
   "id": "3bb5d177",
   "metadata": {},
   "source": [
    "## T-test"
   ]
  },
  {
   "cell_type": "code",
   "execution_count": 3,
   "id": "8fb8d88d",
   "metadata": {},
   "outputs": [],
   "source": [
    "data_group1 = [abs(i) for i in np.random.normal(loc=mean, scale=sd, size=N)]\n",
    "data_group2 = [abs(i) for i in np.random.normal(loc=mean*lift, scale=sd, size=N)]"
   ]
  },
  {
   "cell_type": "code",
   "execution_count": 19,
   "id": "a08d0bb5",
   "metadata": {},
   "outputs": [
    {
     "data": {
      "text/plain": [
       "([20.039736250478086,\n",
       "  9.775376127546025,\n",
       "  16.208953358235913,\n",
       "  17.876362371111995,\n",
       "  21.745483943006462],\n",
       " [2.1804092344967376,\n",
       "  5.939386766301629,\n",
       "  10.438489865200854,\n",
       "  5.147138795610138,\n",
       "  4.5320947135214205])"
      ]
     },
     "execution_count": 19,
     "metadata": {},
     "output_type": "execute_result"
    }
   ],
   "source": [
    "(data_group1[:5], data_group2[:5])"
   ]
  },
  {
   "cell_type": "code",
   "execution_count": 4,
   "id": "ab571f34",
   "metadata": {},
   "outputs": [
    {
     "data": {
      "text/plain": [
       "0.3246837246991986"
      ]
     },
     "execution_count": 4,
     "metadata": {},
     "output_type": "execute_result"
    }
   ],
   "source": [
    "p_val = ttest_ind(data_group1, data_group2)[1]\n",
    "p_val"
   ]
  },
  {
   "cell_type": "code",
   "execution_count": 5,
   "id": "f191e2c4",
   "metadata": {},
   "outputs": [
    {
     "data": {
      "text/plain": [
       "14.001886583878685"
      ]
     },
     "execution_count": 5,
     "metadata": {},
     "output_type": "execute_result"
    }
   ],
   "source": [
    "effect_size = mean / sd * lift\n",
    "\n",
    "nobs1 = tt_ind_solve_power(effect_size=effect_size, alpha=alpha, power=pwr, nobs1=None, ratio=1)\n",
    "\n",
    "nobs1 #number of observations per split"
   ]
  },
  {
   "cell_type": "markdown",
   "id": "c3a24d18",
   "metadata": {},
   "source": [
    "## Mann Whitney U-test"
   ]
  },
  {
   "cell_type": "code",
   "execution_count": 6,
   "id": "c22be1fe",
   "metadata": {},
   "outputs": [
    {
     "name": "stdout",
     "output_type": "stream",
     "text": [
      "19050.0 0.4114952366298432\n"
     ]
    }
   ],
   "source": [
    "U1, p = mannwhitneyu(data_group1, data_group2)\n",
    "print(U1, p)"
   ]
  },
  {
   "cell_type": "markdown",
   "id": "badb0c1f",
   "metadata": {},
   "source": [
    "## Chi-Square"
   ]
  },
  {
   "cell_type": "code",
   "execution_count": 7,
   "id": "420da312",
   "metadata": {},
   "outputs": [],
   "source": [
    "a = [int(0.5 >= np.random.rand()) for i in range(N)]\n",
    "b = [int(0.6 >= np.random.rand()) for i in range(N)]"
   ]
  },
  {
   "cell_type": "code",
   "execution_count": 8,
   "id": "709bff56",
   "metadata": {},
   "outputs": [
    {
     "data": {
      "text/plain": [
       "([0, 0, 0, 1, 0, 0, 1, 1, 1, 0], [0, 1, 0, 0, 0, 1, 1, 0, 1, 1])"
      ]
     },
     "execution_count": 8,
     "metadata": {},
     "output_type": "execute_result"
    }
   ],
   "source": [
    "a[:10], b[:10]"
   ]
  },
  {
   "cell_type": "code",
   "execution_count": 9,
   "id": "3cea3572",
   "metadata": {},
   "outputs": [
    {
     "data": {
      "text/plain": [
       "0.31555593098319923"
      ]
     },
     "execution_count": 9,
     "metadata": {},
     "output_type": "execute_result"
    }
   ],
   "source": [
    "successes, fails = [sum(a), sum(b)], [N - sum(a), N - sum(b)]\n",
    "p_val = chi2_contingency(np.array([fails, successes]))[1]\n",
    "p_val"
   ]
  },
  {
   "cell_type": "code",
   "execution_count": 10,
   "id": "ae73ed60",
   "metadata": {},
   "outputs": [
    {
     "name": "stderr",
     "output_type": "stream",
     "text": [
      "/Users/ghostrider/Library/Python/3.9/lib/python/site-packages/scipy/_lib/_util.py:69: RuntimeWarning: overflow encountered in _ncx2_sf\n",
      "  np.place(out, cond, f(*temp))\n"
     ]
    },
    {
     "data": {
      "text/plain": [
       "648.0823582535387"
      ]
     },
     "execution_count": 10,
     "metadata": {},
     "output_type": "execute_result"
    }
   ],
   "source": [
    "probs0, probs1 = np.array([sum(a), N - sum(a)]), np.array([sum(b), N - sum(b)])\n",
    "effect_size = chisquare_effectsize(probs0, probs1, correction=None, cohen=True, axis=0)\n",
    "nobs1 = GofChisquarePower().solve_power(effect_size=effect_size, alpha=alpha,\n",
    "                                        power=pwr, n_bins=2)\n",
    "nobs1 #number of observations per split"
   ]
  },
  {
   "cell_type": "markdown",
   "id": "32c94b82",
   "metadata": {},
   "source": [
    "## T-test Delta Method for Ratio Metric"
   ]
  },
  {
   "cell_type": "code",
   "execution_count": 11,
   "id": "2206770c",
   "metadata": {},
   "outputs": [],
   "source": [
    "# t-test deltha method\n",
    "\n",
    "# mde"
   ]
  },
  {
   "cell_type": "code",
   "execution_count": 12,
   "id": "85a54dae",
   "metadata": {},
   "outputs": [
    {
     "data": {
      "text/html": [
       "<div>\n",
       "<style scoped>\n",
       "    .dataframe tbody tr th:only-of-type {\n",
       "        vertical-align: middle;\n",
       "    }\n",
       "\n",
       "    .dataframe tbody tr th {\n",
       "        vertical-align: top;\n",
       "    }\n",
       "\n",
       "    .dataframe thead th {\n",
       "        text-align: right;\n",
       "    }\n",
       "</style>\n",
       "<table border=\"1\" class=\"dataframe\">\n",
       "  <thead>\n",
       "    <tr style=\"text-align: right;\">\n",
       "      <th></th>\n",
       "      <th>mean_control</th>\n",
       "      <th>mean_experiment</th>\n",
       "      <th>var_control</th>\n",
       "      <th>var_experiment</th>\n",
       "      <th>difference</th>\n",
       "      <th>lower_bound</th>\n",
       "      <th>upper_bound</th>\n",
       "      <th>p-value</th>\n",
       "    </tr>\n",
       "  </thead>\n",
       "  <tbody>\n",
       "    <tr>\n",
       "      <th>0</th>\n",
       "      <td>0.329964</td>\n",
       "      <td>0.347725</td>\n",
       "      <td>0.000008</td>\n",
       "      <td>0.000008</td>\n",
       "      <td>0.017761</td>\n",
       "      <td>0.009992</td>\n",
       "      <td>0.02553</td>\n",
       "      <td>0.000007</td>\n",
       "    </tr>\n",
       "  </tbody>\n",
       "</table>\n",
       "</div>"
      ],
      "text/plain": [
       "   mean_control  mean_experiment  var_control  var_experiment  difference  \\\n",
       "0      0.329964         0.347725     0.000008        0.000008    0.017761   \n",
       "\n",
       "   lower_bound  upper_bound   p-value  \n",
       "0     0.009992      0.02553  0.000007  "
      ]
     },
     "execution_count": 12,
     "metadata": {},
     "output_type": "execute_result"
    }
   ],
   "source": [
    "import pandas as pd\n",
    "import numpy as np\n",
    "from random import randint\n",
    "from scipy import stats \n",
    "\n",
    "#dummy variables\n",
    "click_control = [randint(0,20) for i in range(10000)]\n",
    "view_control = [randint(1,60) for i in range(10000)]\n",
    "\n",
    "click_treatment = [randint(0,21) for i in range(10000)]\n",
    "view_treatment = [randint(1,60) for i in range(10000)]\n",
    "\n",
    "control = pd.DataFrame({'click':click_control,'view':view_control})\n",
    "treatment = pd.DataFrame({'click':click_treatment,'view':view_treatment})\n",
    "\n",
    "#variance estimation of metrics ratio\n",
    "def var_ratio(x,y): #x/y\n",
    "    mean_x = np.mean(x)\n",
    "    mean_y = np.mean(y)\n",
    "    var_x = np.var(x,ddof=1)\n",
    "    var_y = np.var(y,ddof=1)\n",
    "    cov_xy = np.cov(x,y,ddof=1)[0][1]\n",
    "    result = (var_x/mean_x**2 + var_y/mean_y**2 - 2*cov_xy/(mean_x*mean_y))*(mean_x*mean_x)/(mean_y*mean_y*len(x))\n",
    "    return result\n",
    "    \n",
    "#ttest calculation \n",
    "def ttest(mean_control,mean_treatment,var_control,var_treatment):\n",
    "    diff = mean_treatment - mean_control\n",
    "    var = var_control+var_treatment\n",
    "    stde = 1.96*np.sqrt(var)\n",
    "    lower = diff - stde \n",
    "    upper = diff + stde\n",
    "    z = diff/np.sqrt(var)\n",
    "    p_val = stats.norm.sf(abs(z))*2\n",
    "\n",
    "    result = {'mean_control':mean_control,\n",
    "             'mean_experiment':mean_treatment,\n",
    "             'var_control':var_control,\n",
    "             'var_experiment':var_treatment,\n",
    "             'difference':diff,\n",
    "             'lower_bound':lower,\n",
    "             'upper_bound':upper,\n",
    "             'p-value':p_val}\n",
    "    return pd.DataFrame(result,index=[0])\n",
    "\n",
    "var_control = var_ratio(control['click'],control['view'])\n",
    "var_treatment = var_ratio(treatment['click'],treatment['view'])\n",
    "mean_control = control['click'].sum()/control['view'].sum()\n",
    "mean_treatment = treatment['click'].sum()/treatment['view'].sum()\n",
    "\n",
    "ttest(mean_control,mean_treatment,var_control,var_treatment)"
   ]
  },
  {
   "cell_type": "code",
   "execution_count": 13,
   "id": "5373b6fc",
   "metadata": {},
   "outputs": [
    {
     "data": {
      "text/plain": [
       "(7298.454871248002, 0.04638007234913623)"
      ]
     },
     "execution_count": 13,
     "metadata": {},
     "output_type": "execute_result"
    }
   ],
   "source": [
    "# num – числитель, den – знаменатель\n",
    "num_1 = np.array([1,2,3,4,5])\n",
    "den_1 = np.array([2,3,4,5,6])\n",
    "num_2 = np.array([1,2,3,8,5])\n",
    "den_2 = np.array([2,9,4,5,6])\n",
    "\n",
    "def deltamethod(x, y, independent = False, bc = False):\n",
    "    n = len(x)\n",
    "    mux = np.mean(x)\n",
    "    muy = np.mean(y)\n",
    "    \n",
    "    v11 = np.var(y,ddof=1)\n",
    "    v22 = np.var(x,ddof=1)\n",
    "    if independent == True:\n",
    "        v12 = 0\n",
    "    else: \n",
    "        v12 = np.cov(x,y)[0][1]\n",
    "    \n",
    "    rto = muy / mux\n",
    "    est = rto - 1\n",
    "    if bc == True:\n",
    "        est = est +muy/mux**3*v22/n - 1/mux**2*v12/n\n",
    "    sdest = (v11 / mux**2) - (2 * muy / mux**3 * v12) + (muy**2 / mux**4 * v22)\n",
    "    sdest = np.sqrt(sdest)\n",
    "    return est, sdest\n",
    "\n",
    "# Считаем оценку ratio и дисперсий\n",
    "rto_1, sdest_1 = deltamethod(num_1,den_1,independent=True,bc=True)\n",
    "rto_2, sdest_2 = deltamethod(num_2,den_2,independent=True,bc=True)\n",
    "\n",
    "# Для effect_size\n",
    "lift = 0.1\n",
    "effect_size = rto_1 * lift / sdest_1\n",
    "\n",
    "nobs1 = tt_ind_solve_power(effect_size=effect_size, alpha=alpha, power=pwr, nobs1=None, ratio=1)\n",
    "\n",
    "nobs1, effect_size"
   ]
  },
  {
   "cell_type": "markdown",
   "id": "2493cc99",
   "metadata": {},
   "source": [
    "## Поправка на множественные сравнения"
   ]
  },
  {
   "cell_type": "code",
   "execution_count": 14,
   "id": "332ae6b9",
   "metadata": {},
   "outputs": [],
   "source": [
    "results = pd.DataFrame({\"p_val\":[0.00212, 0.04865, 0.10875]}, index=['A_B', 'B_C', 'A_C'])"
   ]
  },
  {
   "cell_type": "code",
   "execution_count": 15,
   "id": "dea34fbb",
   "metadata": {},
   "outputs": [],
   "source": [
    "results['p_val_adjusted'] = multipletests(results['p_val'].values, alpha=alpha, method='fdr_bh')[1]"
   ]
  },
  {
   "cell_type": "code",
   "execution_count": 16,
   "id": "fb3027cf",
   "metadata": {},
   "outputs": [
    {
     "data": {
      "text/html": [
       "<div>\n",
       "<style scoped>\n",
       "    .dataframe tbody tr th:only-of-type {\n",
       "        vertical-align: middle;\n",
       "    }\n",
       "\n",
       "    .dataframe tbody tr th {\n",
       "        vertical-align: top;\n",
       "    }\n",
       "\n",
       "    .dataframe thead th {\n",
       "        text-align: right;\n",
       "    }\n",
       "</style>\n",
       "<table border=\"1\" class=\"dataframe\">\n",
       "  <thead>\n",
       "    <tr style=\"text-align: right;\">\n",
       "      <th></th>\n",
       "      <th>p_val</th>\n",
       "      <th>p_val_adjusted</th>\n",
       "    </tr>\n",
       "  </thead>\n",
       "  <tbody>\n",
       "    <tr>\n",
       "      <th>A_B</th>\n",
       "      <td>0.00212</td>\n",
       "      <td>0.006360</td>\n",
       "    </tr>\n",
       "    <tr>\n",
       "      <th>B_C</th>\n",
       "      <td>0.04865</td>\n",
       "      <td>0.072975</td>\n",
       "    </tr>\n",
       "    <tr>\n",
       "      <th>A_C</th>\n",
       "      <td>0.10875</td>\n",
       "      <td>0.108750</td>\n",
       "    </tr>\n",
       "  </tbody>\n",
       "</table>\n",
       "</div>"
      ],
      "text/plain": [
       "       p_val  p_val_adjusted\n",
       "A_B  0.00212        0.006360\n",
       "B_C  0.04865        0.072975\n",
       "A_C  0.10875        0.108750"
      ]
     },
     "execution_count": 16,
     "metadata": {},
     "output_type": "execute_result"
    }
   ],
   "source": [
    "results"
   ]
  },
  {
   "cell_type": "code",
   "execution_count": null,
   "id": "38985b3e",
   "metadata": {},
   "outputs": [],
   "source": []
  }
 ],
 "metadata": {
  "kernelspec": {
   "display_name": "Python 3 (ipykernel)",
   "language": "python",
   "name": "python3"
  },
  "language_info": {
   "codemirror_mode": {
    "name": "ipython",
    "version": 3
   },
   "file_extension": ".py",
   "mimetype": "text/x-python",
   "name": "python",
   "nbconvert_exporter": "python",
   "pygments_lexer": "ipython3",
   "version": "3.9.16"
  }
 },
 "nbformat": 4,
 "nbformat_minor": 5
}
