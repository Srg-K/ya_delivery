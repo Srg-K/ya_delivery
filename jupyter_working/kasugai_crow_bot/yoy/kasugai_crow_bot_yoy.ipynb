{
 "cells": [
  {
   "cell_type": "code",
   "execution_count": 1,
   "id": "18dc1101",
   "metadata": {},
   "outputs": [],
   "source": [
    "import telebot\n",
    "import schedule\n",
    "from time import sleep\n",
    "import time\n",
    "from business_models.intranet import DataLens\n",
    "import os\n",
    "\n",
    "import pandas as pd\n",
    "\n",
    "import plotly.express as px\n",
    "import plotly.graph_objects as go\n",
    "\n",
    "from business_models import greenplum\n",
    "from business_models.greenplum import GreenplumManager"
   ]
  },
  {
   "cell_type": "code",
   "execution_count": 2,
   "id": "8177df6a",
   "metadata": {},
   "outputs": [],
   "source": [
    "yoy_sql_wkl = '''\n",
    "    with source as (\n",
    "\n",
    "        select date, date - interval '52 weeks' as date_prev, business,\n",
    "               sum(deliveries) as deliveries,\n",
    "               sum(gmv) as gmv,\n",
    "               sum(net_inflow) as net_inflow\n",
    "        from snb_delivery.dash_bizdev_plan_fact_smb\n",
    "        where\n",
    "                scale = 'week'\n",
    "          and date >= '2022-01-01'\n",
    "          and country = 'Russia'\n",
    "          and client_tariff = 'cargo'\n",
    "          and business in ('C2C','SMB','B2B')\n",
    "          and plan_name = 'Fact'\n",
    "        group by 1,2,3\n",
    "    )\n",
    "\n",
    "    select\n",
    "        a.date::date week_dt,\n",
    "        a.business,\n",
    "        a.deliveries,\n",
    "        b.deliveries as deliveries_prev,\n",
    "        a.gmv,\n",
    "        b.gmv as gmv_prev,\n",
    "        a.net_inflow,\n",
    "        b.net_inflow as net_inflow_prev\n",
    "    from\n",
    "        source as a inner join source as b\n",
    "                               on b.date = a.date_prev\n",
    "                                   and a.business = b.business\n",
    "    where a.date >= now()::date - interval '20 weeks'\n",
    "        and a.date < date_trunc('week', now())\n",
    "    order by 1,2;\n",
    "'''"
   ]
  },
  {
   "cell_type": "code",
   "execution_count": 3,
   "id": "eb6b090f",
   "metadata": {},
   "outputs": [
    {
     "data": {
      "text/plain": [
       "True"
      ]
     },
     "execution_count": 3,
     "metadata": {},
     "output_type": "execute_result"
    }
   ],
   "source": [
    "token = '6329128572:AAHwUlRF7aTcF-f3m2CT-lK3jE8aJ0gZk5Y'\n",
    "chat_id = '-1001944611947'\n",
    "# chat_id = '-866072730' # cargo core\n",
    "\n",
    "bot=telebot.TeleBot(token = token)\n",
    "bot.set_webhook()"
   ]
  },
  {
   "cell_type": "code",
   "execution_count": 4,
   "id": "591b439d",
   "metadata": {},
   "outputs": [],
   "source": [
    "dataframe = greenplum(yoy_sql_wkl)"
   ]
  },
  {
   "cell_type": "code",
   "execution_count": 5,
   "id": "f1686c97",
   "metadata": {},
   "outputs": [],
   "source": [
    "metrics = ['deliveries', 'gmv']\n",
    "businesses = ['total', 'B2B']\n",
    "scale = 'week_dt'"
   ]
  },
  {
   "cell_type": "code",
   "execution_count": 6,
   "id": "32ee3fe8",
   "metadata": {
    "scrolled": true
   },
   "outputs": [
    {
     "name": "stderr",
     "output_type": "stream",
     "text": [
      "/var/folders/pd/6gyyhtl13jz1jm8hyvvmc0mcsmszvt/T/ipykernel_47235/3957889294.py:11: FutureWarning: The default value of numeric_only in DataFrameGroupBy.sum is deprecated. In a future version, numeric_only will default to False. Either specify numeric_only or select only columns which should be valid for the function.\n",
      "  idf = idf.groupby([scale]).sum().reset_index()\n",
      "/var/folders/pd/6gyyhtl13jz1jm8hyvvmc0mcsmszvt/T/ipykernel_47235/3957889294.py:11: FutureWarning:\n",
      "\n",
      "The default value of numeric_only in DataFrameGroupBy.sum is deprecated. In a future version, numeric_only will default to False. Either specify numeric_only or select only columns which should be valid for the function.\n",
      "\n"
     ]
    }
   ],
   "source": [
    "bot.send_message(chat_id, 'Время недельного отчета!')\n",
    "\n",
    "i = 0\n",
    "for b in businesses:\n",
    "\n",
    "    if b == 'total':\n",
    "        idf = dataframe.copy()\n",
    "    else:\n",
    "        idf = dataframe[dataframe['business']==b]\n",
    "\n",
    "    idf = idf.groupby([scale]).sum().reset_index()\n",
    "\n",
    "    for m in metrics:\n",
    "        idf[f'{m}_yoy'] = (idf[m] - idf[f'{m}_prev']) / idf[f'{m}_prev']\n",
    "\n",
    "        fig = px.bar(idf, x=scale, y=f'{m}_yoy',\n",
    "                  template = 'plotly_white',\n",
    "                  title=f'Cargo_{m}_{b}_yoy')\n",
    "\n",
    "        fig.add_trace(go.Scatter(\n",
    "            x=[i for i in idf[scale]],\n",
    "            y=[i for i in idf[f'{m}_yoy']],\n",
    "            mode=\"text\",\n",
    "            name=f\"YoY {b} {m}\",\n",
    "            text=[str(round(round(i, 3)*100,1))+'%' for i in idf[f'{m}_yoy']],\n",
    "            textposition=\"top center\"\n",
    "        ))\n",
    "        \n",
    "        fig.write_image(f\"/Users/ghostrider/projects/jupyter_working/kasugai_crow_bot/yoy/fig{i}.png\")\n",
    "        \n",
    "        pic = open(f'fig{i}.png', 'rb')\n",
    "        bot.send_photo(chat_id = chat_id, photo = pic)\n",
    "\n",
    "        i += 1\n",
    "\n",
    "        #fig.show()"
   ]
  },
  {
   "cell_type": "code",
   "execution_count": 30,
   "id": "b5997109",
   "metadata": {},
   "outputs": [
    {
     "data": {
      "text/plain": [
       "'fig4.png'"
      ]
     },
     "execution_count": 30,
     "metadata": {},
     "output_type": "execute_result"
    }
   ],
   "source": [
    "f'fig{i}.png'"
   ]
  },
  {
   "cell_type": "code",
   "execution_count": 22,
   "id": "c7cabfe6",
   "metadata": {},
   "outputs": [],
   "source": [
    "from business_models.botolib import Bot\n",
    "# cfg = ConfigHolder()\n",
    "bot_token = token  #достать из mylib_config.json аттрибут test_bot_token\n",
    "# default_chat_id = -350411529\n",
    "bot = Bot(token=bot_token, default_chat_id=chat_id)"
   ]
  },
  {
   "cell_type": "code",
   "execution_count": 23,
   "id": "4e21cf4b",
   "metadata": {},
   "outputs": [],
   "source": [
    "bot.send_message(message=\"Hell yes!\", chat=chat_id)"
   ]
  },
  {
   "cell_type": "code",
   "execution_count": 29,
   "id": "ed995069",
   "metadata": {},
   "outputs": [
    {
     "ename": "TypeError",
     "evalue": "expected str, bytes or os.PathLike object, not BufferedReader",
     "output_type": "error",
     "traceback": [
      "\u001b[0;31m---------------------------------------------------------------------------\u001b[0m",
      "\u001b[0;31mTypeError\u001b[0m                                 Traceback (most recent call last)",
      "Cell \u001b[0;32mIn[29], line 1\u001b[0m\n\u001b[0;32m----> 1\u001b[0m \u001b[43mbot\u001b[49m\u001b[38;5;241;43m.\u001b[39;49m\u001b[43msend_photo\u001b[49m\u001b[43m(\u001b[49m\u001b[43mphoto\u001b[49m\u001b[38;5;241;43m=\u001b[39;49m\u001b[43mpic\u001b[49m\u001b[43m,\u001b[49m\u001b[43m \u001b[49m\u001b[43mchat\u001b[49m\u001b[38;5;241;43m=\u001b[39;49m\u001b[43mchat_id\u001b[49m\u001b[43m)\u001b[49m\n",
      "File \u001b[0;32m~/Library/Python/3.9/lib/python/site-packages/business_models/botolib/bots.py:198\u001b[0m, in \u001b[0;36mBot.send_photo\u001b[0;34m(self, photo, chat, caption, **kwargs)\u001b[0m\n\u001b[1;32m    188\u001b[0m \u001b[38;5;28;01mdef\u001b[39;00m \u001b[38;5;21msend_photo\u001b[39m(\u001b[38;5;28mself\u001b[39m, photo, chat\u001b[38;5;241m=\u001b[39m\u001b[38;5;28;01mNone\u001b[39;00m, caption\u001b[38;5;241m=\u001b[39m\u001b[38;5;28;01mNone\u001b[39;00m, \u001b[38;5;241m*\u001b[39m\u001b[38;5;241m*\u001b[39mkwargs):\n\u001b[1;32m    189\u001b[0m \u001b[38;5;250m    \u001b[39m\u001b[38;5;124;03m\"\"\"\u001b[39;00m\n\u001b[1;32m    190\u001b[0m \u001b[38;5;124;03m    Отправить фото в чат\u001b[39;00m\n\u001b[1;32m    191\u001b[0m \u001b[38;5;124;03m    :param photo: str  путь до файла с картинкой\u001b[39;00m\n\u001b[0;32m   (...)\u001b[0m\n\u001b[1;32m    194\u001b[0m \u001b[38;5;124;03m    :return: json  responce от api\u001b[39;00m\n\u001b[1;32m    195\u001b[0m \u001b[38;5;124;03m    \"\"\"\u001b[39;00m\n\u001b[1;32m    196\u001b[0m     \u001b[38;5;28;01mreturn\u001b[39;00m \u001b[38;5;28mself\u001b[39m\u001b[38;5;241m.\u001b[39m_post_request(\u001b[38;5;124m'\u001b[39m\u001b[38;5;124msendPhoto\u001b[39m\u001b[38;5;124m'\u001b[39m,\n\u001b[1;32m    197\u001b[0m                               data\u001b[38;5;241m=\u001b[39m{\u001b[38;5;124m'\u001b[39m\u001b[38;5;124mchat_id\u001b[39m\u001b[38;5;124m'\u001b[39m: chat \u001b[38;5;129;01mor\u001b[39;00m \u001b[38;5;28mself\u001b[39m\u001b[38;5;241m.\u001b[39mdefault_chat_id, \u001b[38;5;124m'\u001b[39m\u001b[38;5;124mcaption\u001b[39m\u001b[38;5;124m'\u001b[39m: caption},\n\u001b[0;32m--> 198\u001b[0m                               files\u001b[38;5;241m=\u001b[39m{\u001b[38;5;124m'\u001b[39m\u001b[38;5;124mphoto\u001b[39m\u001b[38;5;124m'\u001b[39m: \u001b[38;5;28;43mopen\u001b[39;49m\u001b[43m(\u001b[49m\u001b[43mphoto\u001b[49m\u001b[43m,\u001b[49m\u001b[43m \u001b[49m\u001b[38;5;124;43m'\u001b[39;49m\u001b[38;5;124;43mrb\u001b[39;49m\u001b[38;5;124;43m'\u001b[39;49m\u001b[43m)\u001b[49m})\n",
      "\u001b[0;31mTypeError\u001b[0m: expected str, bytes or os.PathLike object, not BufferedReader"
     ]
    }
   ],
   "source": [
    "bot.send_photo(photo=pic, chat=chat_id)"
   ]
  },
  {
   "cell_type": "code",
   "execution_count": 25,
   "id": "06b43a0f",
   "metadata": {},
   "outputs": [
    {
     "ename": "TypeError",
     "evalue": "expected str, bytes or os.PathLike object, not BufferedReader",
     "output_type": "error",
     "traceback": [
      "\u001b[0;31m---------------------------------------------------------------------------\u001b[0m",
      "\u001b[0;31mTypeError\u001b[0m                                 Traceback (most recent call last)",
      "Cell \u001b[0;32mIn[25], line 1\u001b[0m\n\u001b[0;32m----> 1\u001b[0m \u001b[43mbot\u001b[49m\u001b[38;5;241;43m.\u001b[39;49m\u001b[43msend_photo\u001b[49m\u001b[43m(\u001b[49m\u001b[43mchat\u001b[49m\u001b[43m \u001b[49m\u001b[38;5;241;43m=\u001b[39;49m\u001b[43m \u001b[49m\u001b[43mchat_id\u001b[49m\u001b[43m,\u001b[49m\u001b[43m \u001b[49m\u001b[43mphoto\u001b[49m\u001b[43m \u001b[49m\u001b[38;5;241;43m=\u001b[39;49m\u001b[43m \u001b[49m\u001b[43mpic\u001b[49m\u001b[43m)\u001b[49m\n",
      "File \u001b[0;32m~/Library/Python/3.9/lib/python/site-packages/business_models/botolib/bots.py:198\u001b[0m, in \u001b[0;36mBot.send_photo\u001b[0;34m(self, photo, chat, caption, **kwargs)\u001b[0m\n\u001b[1;32m    188\u001b[0m \u001b[38;5;28;01mdef\u001b[39;00m \u001b[38;5;21msend_photo\u001b[39m(\u001b[38;5;28mself\u001b[39m, photo, chat\u001b[38;5;241m=\u001b[39m\u001b[38;5;28;01mNone\u001b[39;00m, caption\u001b[38;5;241m=\u001b[39m\u001b[38;5;28;01mNone\u001b[39;00m, \u001b[38;5;241m*\u001b[39m\u001b[38;5;241m*\u001b[39mkwargs):\n\u001b[1;32m    189\u001b[0m \u001b[38;5;250m    \u001b[39m\u001b[38;5;124;03m\"\"\"\u001b[39;00m\n\u001b[1;32m    190\u001b[0m \u001b[38;5;124;03m    Отправить фото в чат\u001b[39;00m\n\u001b[1;32m    191\u001b[0m \u001b[38;5;124;03m    :param photo: str  путь до файла с картинкой\u001b[39;00m\n\u001b[0;32m   (...)\u001b[0m\n\u001b[1;32m    194\u001b[0m \u001b[38;5;124;03m    :return: json  responce от api\u001b[39;00m\n\u001b[1;32m    195\u001b[0m \u001b[38;5;124;03m    \"\"\"\u001b[39;00m\n\u001b[1;32m    196\u001b[0m     \u001b[38;5;28;01mreturn\u001b[39;00m \u001b[38;5;28mself\u001b[39m\u001b[38;5;241m.\u001b[39m_post_request(\u001b[38;5;124m'\u001b[39m\u001b[38;5;124msendPhoto\u001b[39m\u001b[38;5;124m'\u001b[39m,\n\u001b[1;32m    197\u001b[0m                               data\u001b[38;5;241m=\u001b[39m{\u001b[38;5;124m'\u001b[39m\u001b[38;5;124mchat_id\u001b[39m\u001b[38;5;124m'\u001b[39m: chat \u001b[38;5;129;01mor\u001b[39;00m \u001b[38;5;28mself\u001b[39m\u001b[38;5;241m.\u001b[39mdefault_chat_id, \u001b[38;5;124m'\u001b[39m\u001b[38;5;124mcaption\u001b[39m\u001b[38;5;124m'\u001b[39m: caption},\n\u001b[0;32m--> 198\u001b[0m                               files\u001b[38;5;241m=\u001b[39m{\u001b[38;5;124m'\u001b[39m\u001b[38;5;124mphoto\u001b[39m\u001b[38;5;124m'\u001b[39m: \u001b[38;5;28;43mopen\u001b[39;49m\u001b[43m(\u001b[49m\u001b[43mphoto\u001b[49m\u001b[43m,\u001b[49m\u001b[43m \u001b[49m\u001b[38;5;124;43m'\u001b[39;49m\u001b[38;5;124;43mrb\u001b[39;49m\u001b[38;5;124;43m'\u001b[39;49m\u001b[43m)\u001b[49m})\n",
      "\u001b[0;31mTypeError\u001b[0m: expected str, bytes or os.PathLike object, not BufferedReader"
     ]
    }
   ],
   "source": [
    "bot.send_photo(chat = chat_id, photo = pic)"
   ]
  },
  {
   "cell_type": "code",
   "execution_count": 27,
   "id": "d41d830d",
   "metadata": {},
   "outputs": [],
   "source": [
    "?bot"
   ]
  },
  {
   "cell_type": "code",
   "execution_count": null,
   "id": "d3846f47",
   "metadata": {},
   "outputs": [],
   "source": []
  }
 ],
 "metadata": {
  "kernelspec": {
   "display_name": "Python 3 (ipykernel)",
   "language": "python",
   "name": "python3"
  },
  "language_info": {
   "codemirror_mode": {
    "name": "ipython",
    "version": 3
   },
   "file_extension": ".py",
   "mimetype": "text/x-python",
   "name": "python",
   "nbconvert_exporter": "python",
   "pygments_lexer": "ipython3",
   "version": "3.9.16"
  }
 },
 "nbformat": 4,
 "nbformat_minor": 5
}
