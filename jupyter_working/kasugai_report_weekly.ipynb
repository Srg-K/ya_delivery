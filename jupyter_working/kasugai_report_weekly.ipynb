{
 "cells": [
  {
   "cell_type": "code",
   "execution_count": 1,
   "id": "39100eee",
   "metadata": {
    "ExecuteTime": {
     "end_time": "2024-02-05T10:21:10.670947Z",
     "start_time": "2024-02-05T10:21:05.960865Z"
    }
   },
   "outputs": [],
   "source": [
    "import pandas as pd\n",
    "\n",
    "import plotly.express as px\n",
    "import plotly.graph_objects as go\n",
    "\n",
    "from business_models import greenplum\n",
    "from business_models.greenplum import GreenplumManager\n",
    "from business_models.botolib import Bot"
   ]
  },
  {
   "cell_type": "code",
   "execution_count": 2,
   "id": "1611a903",
   "metadata": {
    "ExecuteTime": {
     "end_time": "2024-02-05T10:21:10.680047Z",
     "start_time": "2024-02-05T10:21:10.674748Z"
    }
   },
   "outputs": [],
   "source": [
    "yoy_sql_wkl = '''\n",
    "    with source as (\n",
    "\n",
    "        select date, date - interval '52 weeks' as date_prev, business,\n",
    "               sum(deliveries) as deliveries,\n",
    "               sum(gmv) as gmv,\n",
    "               sum(net_inflow) as net_inflow\n",
    "        from snb_delivery.dash_bizdev_plan_fact_smb\n",
    "        where\n",
    "                scale = 'week'\n",
    "          and date >= '2022-01-01'\n",
    "          and country = 'Russia'\n",
    "          and client_tariff = 'cargo'\n",
    "          and business in ('C2C','SMB','B2B')\n",
    "          and plan_name = 'Fact'\n",
    "        group by 1,2,3\n",
    "    )\n",
    "\n",
    "    select\n",
    "        a.date::date week_dt,\n",
    "        a.business,\n",
    "        a.deliveries,\n",
    "        b.deliveries as deliveries_prev,\n",
    "        a.gmv,\n",
    "        b.gmv as gmv_prev,\n",
    "        a.net_inflow,\n",
    "        b.net_inflow as net_inflow_prev\n",
    "    from\n",
    "        source as a inner join source as b\n",
    "                               on b.date = a.date_prev\n",
    "                                   and a.business = b.business\n",
    "    where a.date >= now()::date - interval '20 weeks'\n",
    "        and a.date < date_trunc('week', now())\n",
    "    order by 1,2;\n",
    "'''\n"
   ]
  },
  {
   "cell_type": "code",
   "execution_count": 3,
   "id": "536e4e07",
   "metadata": {
    "ExecuteTime": {
     "end_time": "2024-02-05T10:21:10.706785Z",
     "start_time": "2024-02-05T10:21:10.682558Z"
    }
   },
   "outputs": [],
   "source": [
    "yoy_sql_wkl = '''\n",
    "    with source as (\n",
    "\n",
    "        select date, date - interval '52 weeks' as date_prev, business,\n",
    "               sum(deliveries) as deliveries,\n",
    "               sum(gmv) as gmv,\n",
    "               sum(net_inflow) as net_inflow\n",
    "        from snb_delivery.dash_bizdev_plan_fact_smb\n",
    "        where\n",
    "                scale = 'week'\n",
    "          and date >= '2022-01-01'\n",
    "          and country = 'Russia'\n",
    "          and client_tariff = 'cargo'\n",
    "          and business in ('C2C','SMB','B2B')\n",
    "          and plan_name = 'Fact'\n",
    "            and client != 'Маркет'\n",
    "        group by 1,2,3\n",
    "    )\n",
    "\n",
    "    select\n",
    "        a.date::date week_dt,\n",
    "        a.business,\n",
    "        a.deliveries,\n",
    "        b.deliveries as deliveries_prev,\n",
    "        a.gmv,\n",
    "        b.gmv as gmv_prev,\n",
    "        a.net_inflow,\n",
    "        b.net_inflow as net_inflow_prev\n",
    "    from\n",
    "        source as a inner join source as b\n",
    "                               on b.date = a.date_prev\n",
    "                                   and a.business = b.business\n",
    "    where a.date >= now()::date - interval '20 weeks'\n",
    "        and a.date < date_trunc('week', now())\n",
    "    order by 1,2;\n",
    "'''\n"
   ]
  },
  {
   "cell_type": "code",
   "execution_count": 8,
   "id": "86163d3b",
   "metadata": {
    "ExecuteTime": {
     "end_time": "2024-02-05T10:22:06.324350Z",
     "start_time": "2024-02-05T10:22:06.318289Z"
    }
   },
   "outputs": [],
   "source": [
    "bot_token = '6329128572:AAHwUlRF7aTcF-f3m2CT-lK3jE8aJ0gZk5Y'\n",
    "\n",
    "# chat_id = '-1001944611947' #test\n",
    "\n",
    "chat_id = '-981059666' # cargo core # chat_id = '-866072730' # cargo core old\n",
    "\n",
    "bot = Bot(token=bot_token, default_chat_id=chat_id)"
   ]
  },
  {
   "cell_type": "code",
   "execution_count": 5,
   "id": "5f7adab9",
   "metadata": {
    "ExecuteTime": {
     "end_time": "2024-02-05T10:21:27.599547Z",
     "start_time": "2024-02-05T10:21:26.753711Z"
    }
   },
   "outputs": [],
   "source": [
    "dataframe = greenplum(yoy_sql_wkl)"
   ]
  },
  {
   "cell_type": "code",
   "execution_count": 6,
   "id": "9ceba580",
   "metadata": {
    "ExecuteTime": {
     "end_time": "2024-02-05T10:21:32.855711Z",
     "start_time": "2024-02-05T10:21:32.851662Z"
    }
   },
   "outputs": [],
   "source": [
    "metrics = ['deliveries', 'gmv']\n",
    "businesses = ['total', 'B2B']\n",
    "scale = 'week_dt'"
   ]
  },
  {
   "cell_type": "code",
   "execution_count": 9,
   "id": "dc9a603d",
   "metadata": {
    "ExecuteTime": {
     "end_time": "2024-02-05T10:22:14.414282Z",
     "start_time": "2024-02-05T10:22:11.760811Z"
    }
   },
   "outputs": [],
   "source": [
    "bot.send_message(message='Время недельного отчета!', chat=chat_id)\n",
    "\n",
    "i = 0\n",
    "for b in businesses:\n",
    "\n",
    "    if b == 'total':\n",
    "        idf = dataframe.copy()\n",
    "    else:\n",
    "        idf = dataframe[dataframe['business']==b]\n",
    "\n",
    "    idf = idf.groupby([scale]).sum().reset_index()\n",
    "\n",
    "    for m in metrics:\n",
    "        idf[f'{m}_yoy'] = (idf[m] - idf[f'{m}_prev']) / idf[f'{m}_prev']\n",
    "\n",
    "        fig = px.bar(idf, x=scale, y=f'{m}_yoy',\n",
    "                  template = 'plotly_white',\n",
    "                  title=f'Cargo_{m}_{b}_yoy')\n",
    "\n",
    "        fig.add_trace(go.Scatter(\n",
    "            x=[i for i in idf[scale]],\n",
    "            y=[i for i in idf[f'{m}_yoy']],\n",
    "            mode=\"text\",\n",
    "            name=f\"YoY {b} {m}\",\n",
    "            text=[str(round(round(i, 3)*100,1))+'%' for i in idf[f'{m}_yoy']],\n",
    "            textposition=\"top center\"\n",
    "        ))\n",
    "        \n",
    "        fig.write_image(f\"fig{i}.png\")\n",
    "        \n",
    "        bot.send_photo(photo=f'fig{i}.png', chat=chat_id)\n",
    "\n",
    "        i += 1\n",
    "\n",
    "        #fig.show()"
   ]
  },
  {
   "cell_type": "code",
   "execution_count": null,
   "id": "eb04d2ad",
   "metadata": {},
   "outputs": [],
   "source": []
  },
  {
   "cell_type": "code",
   "execution_count": null,
   "id": "f882ce86",
   "metadata": {},
   "outputs": [],
   "source": []
  }
 ],
 "metadata": {
  "kernelspec": {
   "display_name": "Python 3",
   "language": "python",
   "name": "python3"
  },
  "language_info": {
   "codemirror_mode": {
    "name": "ipython",
    "version": 3
   },
   "file_extension": ".py",
   "mimetype": "text/x-python",
   "name": "python",
   "nbconvert_exporter": "python",
   "pygments_lexer": "ipython3",
   "version": "3.7.5"
  }
 },
 "nbformat": 4,
 "nbformat_minor": 5
}
