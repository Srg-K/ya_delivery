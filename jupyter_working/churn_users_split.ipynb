{
 "cells": [
  {
   "cell_type": "code",
   "execution_count": 1,
   "id": "83667c18",
   "metadata": {
    "ExecuteTime": {
     "end_time": "2023-05-23T08:47:32.043206Z",
     "start_time": "2023-05-23T08:47:30.317939Z"
    }
   },
   "outputs": [],
   "source": [
    "from business_models import hahn\n",
    "import pandas as pd\n",
    "import numpy as np\n",
    "\n"
   ]
  },
  {
   "cell_type": "code",
   "execution_count": 2,
   "id": "17c111dc",
   "metadata": {
    "ExecuteTime": {
     "end_time": "2023-05-23T08:47:32.051880Z",
     "start_time": "2023-05-23T08:47:32.047441Z"
    }
   },
   "outputs": [],
   "source": [
    "query = '''\n",
    "    use hahn;\n",
    "    PRAGMA AnsiInForEmptyOrNullableItemsCollections;\n",
    "\n",
    "    SELECT *\n",
    "    from `//home/taxi-delivery/analytics/dev/marketing_adhocs/cargo_churn_users`\n",
    "    ;\n",
    "        '''"
   ]
  },
  {
   "cell_type": "code",
   "execution_count": 3,
   "id": "be6e55cf",
   "metadata": {
    "ExecuteTime": {
     "end_time": "2023-05-23T08:47:43.625313Z",
     "start_time": "2023-05-23T08:47:32.055004Z"
    }
   },
   "outputs": [],
   "source": [
    "df = hahn(query)"
   ]
  },
  {
   "cell_type": "code",
   "execution_count": 4,
   "id": "9bfa35bc",
   "metadata": {
    "ExecuteTime": {
     "end_time": "2023-05-23T08:47:43.634989Z",
     "start_time": "2023-05-23T08:47:43.629554Z"
    }
   },
   "outputs": [],
   "source": [
    "df.columns = ['phone_pd_id', 'deliveries']"
   ]
  },
  {
   "cell_type": "code",
   "execution_count": 7,
   "id": "6f5ef5fa",
   "metadata": {
    "ExecuteTime": {
     "end_time": "2023-05-23T08:51:30.882505Z",
     "start_time": "2023-05-23T08:51:30.868441Z"
    }
   },
   "outputs": [],
   "source": [
    "id_to_remove = pd.read_csv('id_to_remove.csv')"
   ]
  },
  {
   "cell_type": "code",
   "execution_count": 19,
   "id": "8ca267ff",
   "metadata": {
    "ExecuteTime": {
     "end_time": "2023-05-23T08:54:47.754631Z",
     "start_time": "2023-05-23T08:54:47.744994Z"
    }
   },
   "outputs": [],
   "source": [
    "id_to_remove.columns = ['phone_pd_id']\n",
    "id_to_remove['x'] = [1 for i in range(len(id_to_remove['phone_pd_id']))]"
   ]
  },
  {
   "cell_type": "code",
   "execution_count": 22,
   "id": "4009e332",
   "metadata": {
    "ExecuteTime": {
     "end_time": "2023-05-23T08:55:33.213504Z",
     "start_time": "2023-05-23T08:55:33.108578Z"
    }
   },
   "outputs": [],
   "source": [
    "df = df.merge(id_to_remove, how='outer', on='phone_pd_id')\n",
    "df = df[df['x'].isna()]"
   ]
  },
  {
   "cell_type": "code",
   "execution_count": 24,
   "id": "b6185855",
   "metadata": {
    "ExecuteTime": {
     "end_time": "2023-05-23T08:56:07.286764Z",
     "start_time": "2023-05-23T08:56:07.259794Z"
    }
   },
   "outputs": [],
   "source": [
    "df = df.sort_values(by='deliveries', ascending=False).head(30000)"
   ]
  },
  {
   "cell_type": "code",
   "execution_count": 144,
   "id": "69e944af",
   "metadata": {
    "ExecuteTime": {
     "end_time": "2023-06-14T15:33:19.843406Z",
     "start_time": "2023-06-14T15:33:19.838015Z"
    }
   },
   "outputs": [],
   "source": [
    "def splitovalka(pdid, sault):\n",
    "    pdid_s = pdid+sault\n",
    "    hash_res = binascii.crc32(pdid_s.encode('utf8'))\n",
    "    if hash_res%100<33:\n",
    "        return 'C'\n",
    "    elif hash_res%100<66:\n",
    "        return 'B'\n",
    "    else:\n",
    "        return 'A'"
   ]
  },
  {
   "cell_type": "code",
   "execution_count": 145,
   "id": "f4b3abfa",
   "metadata": {
    "ExecuteTime": {
     "end_time": "2023-06-14T15:33:26.953672Z",
     "start_time": "2023-06-14T15:33:26.901128Z"
    }
   },
   "outputs": [],
   "source": [
    "df['exp_group'] = df['phone_pd_id'].apply(splitovalka, args=('first_iter',))"
   ]
  },
  {
   "cell_type": "code",
   "execution_count": 146,
   "id": "a83b07ed",
   "metadata": {
    "ExecuteTime": {
     "end_time": "2023-06-14T15:33:30.513212Z",
     "start_time": "2023-06-14T15:33:30.490705Z"
    }
   },
   "outputs": [
    {
     "data": {
      "text/html": [
       "<div>\n",
       "<style scoped>\n",
       "    .dataframe tbody tr th:only-of-type {\n",
       "        vertical-align: middle;\n",
       "    }\n",
       "\n",
       "    .dataframe tbody tr th {\n",
       "        vertical-align: top;\n",
       "    }\n",
       "\n",
       "    .dataframe thead th {\n",
       "        text-align: right;\n",
       "    }\n",
       "</style>\n",
       "<table border=\"1\" class=\"dataframe\">\n",
       "  <thead>\n",
       "    <tr style=\"text-align: right;\">\n",
       "      <th></th>\n",
       "      <th>phone_pd_id</th>\n",
       "      <th>deliveries</th>\n",
       "      <th>x</th>\n",
       "      <th>exp_group</th>\n",
       "    </tr>\n",
       "  </thead>\n",
       "  <tbody>\n",
       "    <tr>\n",
       "      <th>125607</th>\n",
       "      <td>dcacf33b73ad4aaa85f867aeed44fbe8</td>\n",
       "      <td>199</td>\n",
       "      <td>NaN</td>\n",
       "      <td>A</td>\n",
       "    </tr>\n",
       "    <tr>\n",
       "      <th>132973</th>\n",
       "      <td>e99225acc33a4c33b7c29697c9dff5e9</td>\n",
       "      <td>199</td>\n",
       "      <td>NaN</td>\n",
       "      <td>C</td>\n",
       "    </tr>\n",
       "    <tr>\n",
       "      <th>130848</th>\n",
       "      <td>e5e4eb035c304eba9f3b0e235e35e1ad</td>\n",
       "      <td>198</td>\n",
       "      <td>NaN</td>\n",
       "      <td>C</td>\n",
       "    </tr>\n",
       "    <tr>\n",
       "      <th>99890</th>\n",
       "      <td>af1f6c3bf7bb443c8457490f593bd4fa</td>\n",
       "      <td>197</td>\n",
       "      <td>NaN</td>\n",
       "      <td>C</td>\n",
       "    </tr>\n",
       "    <tr>\n",
       "      <th>53449</th>\n",
       "      <td>5dbb8aea84624971a6a6732603e32897</td>\n",
       "      <td>196</td>\n",
       "      <td>NaN</td>\n",
       "      <td>C</td>\n",
       "    </tr>\n",
       "    <tr>\n",
       "      <th>...</th>\n",
       "      <td>...</td>\n",
       "      <td>...</td>\n",
       "      <td>...</td>\n",
       "      <td>...</td>\n",
       "    </tr>\n",
       "    <tr>\n",
       "      <th>19200</th>\n",
       "      <td>219f452cab8d43338a569b4b3eb1b6ce</td>\n",
       "      <td>6</td>\n",
       "      <td>NaN</td>\n",
       "      <td>B</td>\n",
       "    </tr>\n",
       "    <tr>\n",
       "      <th>20895</th>\n",
       "      <td>249b3c85fc5844aea77971cafe2d9982</td>\n",
       "      <td>6</td>\n",
       "      <td>NaN</td>\n",
       "      <td>A</td>\n",
       "    </tr>\n",
       "    <tr>\n",
       "      <th>19198</th>\n",
       "      <td>219e6c0ec155487b8443611d0668a226</td>\n",
       "      <td>6</td>\n",
       "      <td>NaN</td>\n",
       "      <td>B</td>\n",
       "    </tr>\n",
       "    <tr>\n",
       "      <th>50891</th>\n",
       "      <td>593ef909e6f8456983c282f7ecf32f8c</td>\n",
       "      <td>6</td>\n",
       "      <td>NaN</td>\n",
       "      <td>C</td>\n",
       "    </tr>\n",
       "    <tr>\n",
       "      <th>52873</th>\n",
       "      <td>5cc175c6b47c46d3ad77490717e60498</td>\n",
       "      <td>6</td>\n",
       "      <td>NaN</td>\n",
       "      <td>C</td>\n",
       "    </tr>\n",
       "  </tbody>\n",
       "</table>\n",
       "<p>30000 rows × 4 columns</p>\n",
       "</div>"
      ],
      "text/plain": [
       "                             phone_pd_id  deliveries   x exp_group\n",
       "125607  dcacf33b73ad4aaa85f867aeed44fbe8         199 NaN         A\n",
       "132973  e99225acc33a4c33b7c29697c9dff5e9         199 NaN         C\n",
       "130848  e5e4eb035c304eba9f3b0e235e35e1ad         198 NaN         C\n",
       "99890   af1f6c3bf7bb443c8457490f593bd4fa         197 NaN         C\n",
       "53449   5dbb8aea84624971a6a6732603e32897         196 NaN         C\n",
       "...                                  ...         ...  ..       ...\n",
       "19200   219f452cab8d43338a569b4b3eb1b6ce           6 NaN         B\n",
       "20895   249b3c85fc5844aea77971cafe2d9982           6 NaN         A\n",
       "19198   219e6c0ec155487b8443611d0668a226           6 NaN         B\n",
       "50891   593ef909e6f8456983c282f7ecf32f8c           6 NaN         C\n",
       "52873   5cc175c6b47c46d3ad77490717e60498           6 NaN         C\n",
       "\n",
       "[30000 rows x 4 columns]"
      ]
     },
     "execution_count": 146,
     "metadata": {},
     "output_type": "execute_result"
    }
   ],
   "source": [
    "df"
   ]
  },
  {
   "cell_type": "code",
   "execution_count": 29,
   "id": "2b19cc97",
   "metadata": {
    "ExecuteTime": {
     "end_time": "2023-05-23T08:57:01.354008Z",
     "start_time": "2023-05-23T08:56:58.199533Z"
    }
   },
   "outputs": [],
   "source": [
    "df[['phone_pd_id', 'deliveries', 'exp_group']].to_excel(\"churn_users_split.xlsx\", sheet_name='first_iter', index=False)  "
   ]
  }
 ],
 "metadata": {
  "kernelspec": {
   "display_name": "Python 3",
   "language": "python",
   "name": "python3"
  },
  "language_info": {
   "codemirror_mode": {
    "name": "ipython",
    "version": 3
   },
   "file_extension": ".py",
   "mimetype": "text/x-python",
   "name": "python",
   "nbconvert_exporter": "python",
   "pygments_lexer": "ipython3",
   "version": "3.7.5"
  }
 },
 "nbformat": 4,
 "nbformat_minor": 5
}
