{
 "cells": [
  {
   "cell_type": "code",
   "execution_count": 15,
   "metadata": {
    "ExecuteTime": {
     "end_time": "2023-04-10T20:05:46.317544Z",
     "start_time": "2023-04-10T20:05:46.313131Z"
    },
    "run_control": {
     "marked": true
    },
    "scrolled": false
   },
   "outputs": [],
   "source": [
    "#!pip install pyTelegramBotAPI --extra-index-url https://pypi.yandex-team.ru/simple"
   ]
  },
  {
   "cell_type": "code",
   "execution_count": 22,
   "metadata": {
    "ExecuteTime": {
     "end_time": "2023-04-10T20:05:46.990883Z",
     "start_time": "2023-04-10T20:05:46.986499Z"
    }
   },
   "outputs": [],
   "source": [
    "#!pip install business-models --extra-index-url https://pypi.yandex-team.ru/simple\n"
   ]
  },
  {
   "cell_type": "code",
   "execution_count": 17,
   "metadata": {
    "ExecuteTime": {
     "end_time": "2023-04-10T20:05:47.468030Z",
     "start_time": "2023-04-10T20:05:47.463177Z"
    }
   },
   "outputs": [],
   "source": [
    "#!pip install schedule"
   ]
  },
  {
   "cell_type": "code",
   "execution_count": null,
   "metadata": {
    "ExecuteTime": {
     "start_time": "2023-04-10T20:31:48.223Z"
    },
    "scrolled": true
   },
   "outputs": [],
   "source": [
    "import telebot\n",
    "import schedule\n",
    "from time import sleep\n",
    "import time\n",
    "from business_models.intranet import DataLens\n",
    "from dotenv import load_dotenv\n",
    "import os\n",
    "\n",
    "load_dotenv()\n",
    "token = os.getenv('CARGO_BOT_TOKEN')\n",
    "chat_id = os.getenv('CHAT_ID')\n",
    "# chat_id = '-818926771'\n",
    "\n",
    "bot=telebot.TeleBot(token = token)\n",
    "bot.set_webhook()\n",
    "\n",
    "@bot.message_handler(commands=['start'])\n",
    "def send_welcome(message):\n",
    "   bot.reply_to(message, \"Привет, я личный бот CargoRussia. Отправь команду /help, чтобы узнать, что я могу :)\")\n",
    "\n",
    "\n",
    "@bot.message_handler(commands=['help'])\n",
    "def send_welcome(message):\n",
    "   text = '/daily - высылаю ежедневный отчет по приросту кол-во доставок и GMV\\n/... - если есть какой-то баг, то напиши @pb_mh'\n",
    "   bot.reply_to(message,text)\n",
    "\n",
    "\n",
    "@bot.message_handler(commands=['daily'])\n",
    "def send_welcome(message):\n",
    "  bot.reply_to(message, \"Подожди минуточку. Делаю скрин\")\n",
    "  dl = DataLens(token= os.getenv('DT_TOKEN'))\n",
    "  screenshot = dl.get_dashboard_image(dashboard_id='jpnktk6ljz769', tab_name='Вкладка 1', width = 900)\n",
    "  screenshot.save('day_screen.png')\n",
    "  photo=open('day_screen.png', 'rb')\n",
    "  bot.send_photo(chat_id = chat_id, photo = photo)\n",
    "    \n",
    "def send():\n",
    "    while True:\n",
    "        schedule.every().day.at(\"17:32\").do(send_welcom())\n",
    "        time.sleep(1)\n",
    "    \n",
    "bot.infinity_polling()\n"
   ]
  },
  {
   "cell_type": "code",
   "execution_count": null,
   "metadata": {
    "ExecuteTime": {
     "end_time": "2023-03-21T14:27:33.701611Z",
     "start_time": "2023-03-21T14:27:33.696609Z"
    }
   },
   "outputs": [],
   "source": [
    "# https://translated.turbopages.org/proxy_u/en-ru.ru.2162b7f8-6419b37a-986e99c3-74722d776562/https/stackoverflow.com/questions/48288124/how-to-send-message-in-specific-time-telegrambot"
   ]
  }
 ],
 "metadata": {
  "kernelspec": {
   "display_name": "Python 3 (ipykernel)",
   "language": "python",
   "name": "python3"
  },
  "language_info": {
   "codemirror_mode": {
    "name": "ipython",
    "version": 3
   },
   "file_extension": ".py",
   "mimetype": "text/x-python",
   "name": "python",
   "nbconvert_exporter": "python",
   "pygments_lexer": "ipython3",
   "version": "3.9.16"
  }
 },
 "nbformat": 4,
 "nbformat_minor": 2
}
