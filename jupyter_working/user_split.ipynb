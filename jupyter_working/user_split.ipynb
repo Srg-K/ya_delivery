{
 "cells": [
  {
   "cell_type": "code",
   "execution_count": 1,
   "id": "5bb0c506",
   "metadata": {
    "ExecuteTime": {
     "end_time": "2023-07-05T09:23:25.907899Z",
     "start_time": "2023-07-05T09:23:25.899400Z"
    }
   },
   "outputs": [],
   "source": [
    "import string\n",
    "import binascii\n",
    "\n",
    "def user_split(pdid, sault, split_qty=2):\n",
    "    \n",
    "    '''Принимает на вход id пользователя, соль и количество групп (по умолчанию 2).\n",
    "    Возвращает рандомно присвоенную тестовую группу'''\n",
    "    \n",
    "    pdid_s = pdid+sault\n",
    "    hash_res = binascii.crc32(pdid_s.encode('utf8'))\n",
    "    \n",
    "    cnt = 1\n",
    "    t_count = treshold = round(100/split_qty)\n",
    "    split_tresholds = {}\n",
    "    for i in range(split_qty):\n",
    "        if cnt != split_qty:\n",
    "            split_tresholds[string.ascii_uppercase[i]] = t_count\n",
    "\n",
    "        t_count += treshold\n",
    "        cnt += 1\n",
    "    \n",
    "    for k, v in split_tresholds.items():   \n",
    "        if hash_res%100<v:\n",
    "            return k\n",
    "\n",
    "    return string.ascii_uppercase[split_qty-1]"
   ]
  },
  {
   "cell_type": "code",
   "execution_count": 2,
   "id": "574af571",
   "metadata": {
    "ExecuteTime": {
     "end_time": "2023-07-05T09:23:44.108706Z",
     "start_time": "2023-07-05T09:23:44.104194Z"
    }
   },
   "outputs": [],
   "source": [
    "pdid = 'as6d76as86a959reyd6a6d87a6'\n",
    "sault = 'test_123'\n",
    "split_qty = 3"
   ]
  },
  {
   "cell_type": "code",
   "execution_count": 3,
   "id": "7472bee7",
   "metadata": {
    "ExecuteTime": {
     "end_time": "2023-07-05T09:23:44.470813Z",
     "start_time": "2023-07-05T09:23:44.463323Z"
    }
   },
   "outputs": [
    {
     "data": {
      "text/plain": [
       "'A'"
      ]
     },
     "execution_count": 3,
     "metadata": {},
     "output_type": "execute_result"
    }
   ],
   "source": [
    "user_split(pdid, sault, split_qty)"
   ]
  },
  {
   "cell_type": "code",
   "execution_count": null,
   "id": "c4f24595",
   "metadata": {},
   "outputs": [],
   "source": []
  }
 ],
 "metadata": {
  "kernelspec": {
   "display_name": "Python 3 (ipykernel)",
   "language": "python",
   "name": "python3"
  },
  "language_info": {
   "codemirror_mode": {
    "name": "ipython",
    "version": 3
   },
   "file_extension": ".py",
   "mimetype": "text/x-python",
   "name": "python",
   "nbconvert_exporter": "python",
   "pygments_lexer": "ipython3",
   "version": "3.9.16"
  }
 },
 "nbformat": 4,
 "nbformat_minor": 5
}
