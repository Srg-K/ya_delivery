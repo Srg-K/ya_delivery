{
 "cells": [
  {
   "cell_type": "code",
   "execution_count": 1,
   "id": "361cfa80",
   "metadata": {
    "ExecuteTime": {
     "end_time": "2023-11-23T16:09:06.421346Z",
     "start_time": "2023-11-23T16:09:04.821168Z"
    }
   },
   "outputs": [],
   "source": [
    "from business_models import hahn\n",
    "import pandas as pd\n",
    "from datetime import datetime, timedelta\n",
    "from itertools import combinations, product"
   ]
  },
  {
   "cell_type": "code",
   "execution_count": 2,
   "id": "c10d1352",
   "metadata": {
    "ExecuteTime": {
     "end_time": "2023-11-23T16:09:06.430746Z",
     "start_time": "2023-11-23T16:09:06.425374Z"
    }
   },
   "outputs": [],
   "source": [
    "query = '''\n",
    "    USE hahn;\n",
    "    PRAGMA AnsiInForEmptyOrNullableItemsCollections;\n",
    "\n",
    "    $fct_delivery = '//home/delivery-dwh/cdm/delivery/fct_delivery';\n",
    "\n",
    "    $date_start = '2023-06-01';\n",
    "\n",
    "    SELECT\n",
    "    initiator_phone_pd_id,\n",
    "    claim_uuid,\n",
    "    max(utc_claim_finish_dttm) as utc_claim_finish_dttm\n",
    "    from RANGE($fct_delivery, $date_start)\n",
    "    where 1=1\n",
    "        and utc_order_created_dttm >= \"2023-06-01\"\n",
    "        and source_country_name_en = 'Russia'\n",
    "        \n",
    "           -- and source_city_name_en = 'Ufa'\n",
    "        \n",
    "        and (ListHas(Yson::ConvertToStringList(claim_created_tariff_class_code_list), 'cargo')\n",
    "            or ListHas(Yson::ConvertToStringList(claim_created_tariff_class_code_list), 'cargocorp')\n",
    "            or ListHas(Yson::ConvertToStringList(claim_created_tariff_class_code_list), 'cargo_long')\n",
    "            or ListHas(Yson::ConvertToStringList(claim_created_tariff_class_code_list), 'cargo_express')\n",
    "            )\n",
    "\n",
    "        and initiator_phone_pd_id is not null\n",
    "\n",
    "        and claim_app_name = 'Go'\n",
    "\n",
    "        and final_claim_status = 'cancelled_by_client'\n",
    "        and utc_claim_performer_found_dttm is not null\n",
    "    group by initiator_phone_pd_id, claim_uuid\n",
    "    ;\n",
    "'''"
   ]
  },
  {
   "cell_type": "code",
   "execution_count": null,
   "id": "cadbb7cb",
   "metadata": {
    "ExecuteTime": {
     "start_time": "2023-11-23T16:09:05.699Z"
    }
   },
   "outputs": [],
   "source": [
    "df = hahn(query)"
   ]
  },
  {
   "cell_type": "code",
   "execution_count": 33,
   "id": "1ac2ac13",
   "metadata": {
    "ExecuteTime": {
     "end_time": "2023-11-23T18:10:18.189079Z",
     "start_time": "2023-11-23T18:10:18.161001Z"
    }
   },
   "outputs": [
    {
     "data": {
      "text/html": [
       "<div>\n",
       "<style scoped>\n",
       "    .dataframe tbody tr th:only-of-type {\n",
       "        vertical-align: middle;\n",
       "    }\n",
       "\n",
       "    .dataframe tbody tr th {\n",
       "        vertical-align: top;\n",
       "    }\n",
       "\n",
       "    .dataframe thead th {\n",
       "        text-align: right;\n",
       "    }\n",
       "</style>\n",
       "<table border=\"1\" class=\"dataframe\">\n",
       "  <thead>\n",
       "    <tr style=\"text-align: right;\">\n",
       "      <th></th>\n",
       "      <th>initiator_phone_pd_id</th>\n",
       "      <th>claim_uuid</th>\n",
       "      <th>utc_claim_finish_dttm</th>\n",
       "      <th>next_claim_ts</th>\n",
       "      <th>ts_delta</th>\n",
       "      <th>time_bucket</th>\n",
       "      <th>prev_delta</th>\n",
       "      <th>session_cancel</th>\n",
       "      <th>cancel_number</th>\n",
       "      <th>start_session</th>\n",
       "      <th>time_from_start</th>\n",
       "      <th>prev_time_from_start</th>\n",
       "    </tr>\n",
       "  </thead>\n",
       "  <tbody>\n",
       "    <tr>\n",
       "      <th>0</th>\n",
       "      <td>0000021e2ec246e4abc11b69415ae7fd</td>\n",
       "      <td>91c86da431464aec80726d8acb56f38b</td>\n",
       "      <td>2023-06-27 07:23:52</td>\n",
       "      <td>2023-10-04 07:38:10</td>\n",
       "      <td>142574</td>\n",
       "      <td>NaN</td>\n",
       "      <td>99999999</td>\n",
       "      <td>1</td>\n",
       "      <td>1</td>\n",
       "      <td>2023-06-27 07:23:52</td>\n",
       "      <td>0</td>\n",
       "      <td>0</td>\n",
       "    </tr>\n",
       "    <tr>\n",
       "      <th>1</th>\n",
       "      <td>0000021e2ec246e4abc11b69415ae7fd</td>\n",
       "      <td>118724e0c69d48779da794bb0e1dbd51</td>\n",
       "      <td>2023-10-04 07:38:10</td>\n",
       "      <td>2023-11-09 09:57:21</td>\n",
       "      <td>51979</td>\n",
       "      <td>NaN</td>\n",
       "      <td>142574</td>\n",
       "      <td>2</td>\n",
       "      <td>1</td>\n",
       "      <td>2023-10-04 07:38:10</td>\n",
       "      <td>0</td>\n",
       "      <td>0</td>\n",
       "    </tr>\n",
       "    <tr>\n",
       "      <th>2</th>\n",
       "      <td>0000021e2ec246e4abc11b69415ae7fd</td>\n",
       "      <td>3c37ff20f8b64e37be1c29fed5a4ff7b</td>\n",
       "      <td>2023-11-09 09:57:21</td>\n",
       "      <td>2023-11-09 12:12:07</td>\n",
       "      <td>134</td>\n",
       "      <td>NaN</td>\n",
       "      <td>51979</td>\n",
       "      <td>3</td>\n",
       "      <td>1</td>\n",
       "      <td>2023-11-09 09:57:21</td>\n",
       "      <td>0</td>\n",
       "      <td>0</td>\n",
       "    </tr>\n",
       "    <tr>\n",
       "      <th>3</th>\n",
       "      <td>0000021e2ec246e4abc11b69415ae7fd</td>\n",
       "      <td>587f82bab6f04bf88d89555c0f9af5b1</td>\n",
       "      <td>2023-11-09 12:12:07</td>\n",
       "      <td>9999-01-01 01:01:01</td>\n",
       "      <td>4194520608</td>\n",
       "      <td>NaN</td>\n",
       "      <td>134</td>\n",
       "      <td>4</td>\n",
       "      <td>1</td>\n",
       "      <td>2023-11-09 12:12:07</td>\n",
       "      <td>0</td>\n",
       "      <td>0</td>\n",
       "    </tr>\n",
       "    <tr>\n",
       "      <th>4</th>\n",
       "      <td>00001518f4224fa49a016ded16d98bd5</td>\n",
       "      <td>af90fb4cb086404597b2a92e56738c5c</td>\n",
       "      <td>2023-06-13 08:53:01</td>\n",
       "      <td>2023-06-13 08:54:26</td>\n",
       "      <td>1</td>\n",
       "      <td>15.0</td>\n",
       "      <td>99999999</td>\n",
       "      <td>5</td>\n",
       "      <td>1</td>\n",
       "      <td>2023-06-13 08:53:01</td>\n",
       "      <td>0</td>\n",
       "      <td>0</td>\n",
       "    </tr>\n",
       "    <tr>\n",
       "      <th>...</th>\n",
       "      <td>...</td>\n",
       "      <td>...</td>\n",
       "      <td>...</td>\n",
       "      <td>...</td>\n",
       "      <td>...</td>\n",
       "      <td>...</td>\n",
       "      <td>...</td>\n",
       "      <td>...</td>\n",
       "      <td>...</td>\n",
       "      <td>...</td>\n",
       "      <td>...</td>\n",
       "      <td>...</td>\n",
       "    </tr>\n",
       "    <tr>\n",
       "      <th>768424</th>\n",
       "      <td>fffef2f7669b4a70ba87ad7084f1cbaa</td>\n",
       "      <td>8fdfdc950d264c698c64e7808ce33d5b</td>\n",
       "      <td>2023-10-19 05:06:51</td>\n",
       "      <td>9999-01-01 01:01:01</td>\n",
       "      <td>4194551274</td>\n",
       "      <td>NaN</td>\n",
       "      <td>99999999</td>\n",
       "      <td>559794</td>\n",
       "      <td>1</td>\n",
       "      <td>2023-10-19 05:06:51</td>\n",
       "      <td>0</td>\n",
       "      <td>0</td>\n",
       "    </tr>\n",
       "    <tr>\n",
       "      <th>768425</th>\n",
       "      <td>ffff414f02fb43a2ba84871abee4b014</td>\n",
       "      <td>be259e9031614bf4b301054ce1ff930c</td>\n",
       "      <td>2023-08-14 06:07:37</td>\n",
       "      <td>2023-08-14 06:11:37</td>\n",
       "      <td>4</td>\n",
       "      <td>15.0</td>\n",
       "      <td>99999999</td>\n",
       "      <td>559795</td>\n",
       "      <td>1</td>\n",
       "      <td>2023-08-14 06:07:37</td>\n",
       "      <td>0</td>\n",
       "      <td>0</td>\n",
       "    </tr>\n",
       "    <tr>\n",
       "      <th>768426</th>\n",
       "      <td>ffff414f02fb43a2ba84871abee4b014</td>\n",
       "      <td>cbfb955bc8d74e94bf2e24be5b67ca05</td>\n",
       "      <td>2023-08-14 06:11:37</td>\n",
       "      <td>9999-01-01 01:01:01</td>\n",
       "      <td>4194646249</td>\n",
       "      <td>NaN</td>\n",
       "      <td>4</td>\n",
       "      <td>559795</td>\n",
       "      <td>2</td>\n",
       "      <td>2023-08-14 06:07:37</td>\n",
       "      <td>4</td>\n",
       "      <td>0</td>\n",
       "    </tr>\n",
       "    <tr>\n",
       "      <th>768427</th>\n",
       "      <td>ffff573dda4b49b38a261771e59e84ff</td>\n",
       "      <td>fc2776e70f1e47e48ed11cf83a372fd5</td>\n",
       "      <td>2023-10-03 06:26:56</td>\n",
       "      <td>2023-10-03 06:51:45</td>\n",
       "      <td>24</td>\n",
       "      <td>30.0</td>\n",
       "      <td>99999999</td>\n",
       "      <td>559796</td>\n",
       "      <td>1</td>\n",
       "      <td>2023-10-03 06:26:56</td>\n",
       "      <td>0</td>\n",
       "      <td>0</td>\n",
       "    </tr>\n",
       "    <tr>\n",
       "      <th>768428</th>\n",
       "      <td>ffff573dda4b49b38a261771e59e84ff</td>\n",
       "      <td>ad6690ccc3e94f5095cab1bd9260bbd9</td>\n",
       "      <td>2023-10-03 06:51:45</td>\n",
       "      <td>9999-01-01 01:01:01</td>\n",
       "      <td>4194574209</td>\n",
       "      <td>NaN</td>\n",
       "      <td>24</td>\n",
       "      <td>559796</td>\n",
       "      <td>2</td>\n",
       "      <td>2023-10-03 06:26:56</td>\n",
       "      <td>24</td>\n",
       "      <td>0</td>\n",
       "    </tr>\n",
       "  </tbody>\n",
       "</table>\n",
       "<p>768429 rows × 12 columns</p>\n",
       "</div>"
      ],
      "text/plain": [
       "                   initiator_phone_pd_id                        claim_uuid  \\\n",
       "0       0000021e2ec246e4abc11b69415ae7fd  91c86da431464aec80726d8acb56f38b   \n",
       "1       0000021e2ec246e4abc11b69415ae7fd  118724e0c69d48779da794bb0e1dbd51   \n",
       "2       0000021e2ec246e4abc11b69415ae7fd  3c37ff20f8b64e37be1c29fed5a4ff7b   \n",
       "3       0000021e2ec246e4abc11b69415ae7fd  587f82bab6f04bf88d89555c0f9af5b1   \n",
       "4       00001518f4224fa49a016ded16d98bd5  af90fb4cb086404597b2a92e56738c5c   \n",
       "...                                  ...                               ...   \n",
       "768424  fffef2f7669b4a70ba87ad7084f1cbaa  8fdfdc950d264c698c64e7808ce33d5b   \n",
       "768425  ffff414f02fb43a2ba84871abee4b014  be259e9031614bf4b301054ce1ff930c   \n",
       "768426  ffff414f02fb43a2ba84871abee4b014  cbfb955bc8d74e94bf2e24be5b67ca05   \n",
       "768427  ffff573dda4b49b38a261771e59e84ff  fc2776e70f1e47e48ed11cf83a372fd5   \n",
       "768428  ffff573dda4b49b38a261771e59e84ff  ad6690ccc3e94f5095cab1bd9260bbd9   \n",
       "\n",
       "       utc_claim_finish_dttm        next_claim_ts    ts_delta  time_bucket  \\\n",
       "0        2023-06-27 07:23:52  2023-10-04 07:38:10      142574          NaN   \n",
       "1        2023-10-04 07:38:10  2023-11-09 09:57:21       51979          NaN   \n",
       "2        2023-11-09 09:57:21  2023-11-09 12:12:07         134          NaN   \n",
       "3        2023-11-09 12:12:07  9999-01-01 01:01:01  4194520608          NaN   \n",
       "4        2023-06-13 08:53:01  2023-06-13 08:54:26           1         15.0   \n",
       "...                      ...                  ...         ...          ...   \n",
       "768424   2023-10-19 05:06:51  9999-01-01 01:01:01  4194551274          NaN   \n",
       "768425   2023-08-14 06:07:37  2023-08-14 06:11:37           4         15.0   \n",
       "768426   2023-08-14 06:11:37  9999-01-01 01:01:01  4194646249          NaN   \n",
       "768427   2023-10-03 06:26:56  2023-10-03 06:51:45          24         30.0   \n",
       "768428   2023-10-03 06:51:45  9999-01-01 01:01:01  4194574209          NaN   \n",
       "\n",
       "        prev_delta  session_cancel  cancel_number        start_session  \\\n",
       "0         99999999               1              1  2023-06-27 07:23:52   \n",
       "1           142574               2              1  2023-10-04 07:38:10   \n",
       "2            51979               3              1  2023-11-09 09:57:21   \n",
       "3              134               4              1  2023-11-09 12:12:07   \n",
       "4         99999999               5              1  2023-06-13 08:53:01   \n",
       "...            ...             ...            ...                  ...   \n",
       "768424    99999999          559794              1  2023-10-19 05:06:51   \n",
       "768425    99999999          559795              1  2023-08-14 06:07:37   \n",
       "768426           4          559795              2  2023-08-14 06:07:37   \n",
       "768427    99999999          559796              1  2023-10-03 06:26:56   \n",
       "768428          24          559796              2  2023-10-03 06:26:56   \n",
       "\n",
       "        time_from_start  prev_time_from_start  \n",
       "0                     0                     0  \n",
       "1                     0                     0  \n",
       "2                     0                     0  \n",
       "3                     0                     0  \n",
       "4                     0                     0  \n",
       "...                 ...                   ...  \n",
       "768424                0                     0  \n",
       "768425                0                     0  \n",
       "768426                4                     0  \n",
       "768427                0                     0  \n",
       "768428               24                     0  \n",
       "\n",
       "[768429 rows x 12 columns]"
      ]
     },
     "execution_count": 33,
     "metadata": {},
     "output_type": "execute_result"
    }
   ],
   "source": [
    "df"
   ]
  },
  {
   "cell_type": "code",
   "execution_count": 34,
   "id": "9d48be68",
   "metadata": {
    "ExecuteTime": {
     "end_time": "2023-11-23T18:10:26.191331Z",
     "start_time": "2023-11-23T18:10:20.793892Z"
    }
   },
   "outputs": [],
   "source": [
    "df = df.sort_values(by=['initiator_phone_pd_id','utc_claim_finish_dttm'])"
   ]
  },
  {
   "cell_type": "code",
   "execution_count": 35,
   "id": "114bbc6d",
   "metadata": {
    "ExecuteTime": {
     "end_time": "2023-11-23T18:10:31.410752Z",
     "start_time": "2023-11-23T18:10:26.195257Z"
    }
   },
   "outputs": [],
   "source": [
    "df['next_claim_ts'] = df.sort_values(by=['utc_claim_finish_dttm'],ascending=True).groupby(\n",
    "    ['initiator_phone_pd_id'])['utc_claim_finish_dttm'].shift(-1)\n",
    "df['next_claim_ts'].fillna('9999-01-01 01:01:01', inplace=True)"
   ]
  },
  {
   "cell_type": "code",
   "execution_count": 36,
   "id": "dca661ec",
   "metadata": {
    "ExecuteTime": {
     "end_time": "2023-11-23T18:12:09.427117Z",
     "start_time": "2023-11-23T18:10:31.413628Z"
    }
   },
   "outputs": [],
   "source": [
    "fmt = '%Y-%m-%d %H:%M:%S'\n",
    "\n",
    "df['ts_delta'] = df.apply(lambda x: (\n",
    "    datetime.strptime(x.next_claim_ts, fmt) - datetime.strptime(x.utc_claim_finish_dttm, fmt)) // timedelta(minutes=1), axis=1)"
   ]
  },
  {
   "cell_type": "code",
   "execution_count": 37,
   "id": "bd1652ce",
   "metadata": {
    "ExecuteTime": {
     "end_time": "2023-11-23T18:12:09.440715Z",
     "start_time": "2023-11-23T18:12:09.434364Z"
    }
   },
   "outputs": [],
   "source": [
    "def bucket_classifier(x):\n",
    "    if x <= 15:\n",
    "        return 15\n",
    "    elif x <= 30:\n",
    "        return 30\n",
    "    elif x <= 45:\n",
    "        return 45\n",
    "    elif x <= 60:\n",
    "        return 60"
   ]
  },
  {
   "cell_type": "code",
   "execution_count": 38,
   "id": "b6d86fc8",
   "metadata": {
    "ExecuteTime": {
     "end_time": "2023-11-23T18:12:09.720398Z",
     "start_time": "2023-11-23T18:12:09.443686Z"
    },
    "run_control": {
     "marked": true
    }
   },
   "outputs": [],
   "source": [
    "df['time_bucket'] = df['ts_delta'].apply(bucket_classifier)"
   ]
  },
  {
   "cell_type": "code",
   "execution_count": 39,
   "id": "ee3df671",
   "metadata": {
    "ExecuteTime": {
     "end_time": "2023-11-23T18:12:14.521668Z",
     "start_time": "2023-11-23T18:12:09.723580Z"
    }
   },
   "outputs": [],
   "source": [
    "df['prev_delta'] = df.sort_values(by=['utc_claim_finish_dttm'],ascending=True).groupby(\n",
    "    ['initiator_phone_pd_id'])['ts_delta'].shift(1)\n",
    "df['prev_delta'].fillna(99999999, inplace=True)\n",
    "df['prev_delta'] = df['prev_delta'].astype(int)"
   ]
  },
  {
   "cell_type": "code",
   "execution_count": 40,
   "id": "78f04cbf",
   "metadata": {
    "ExecuteTime": {
     "end_time": "2023-11-23T18:12:14.530645Z",
     "start_time": "2023-11-23T18:12:14.524866Z"
    }
   },
   "outputs": [],
   "source": [
    "def session_maker(x: pd.Series):\n",
    "    cnt = 0\n",
    "    out = []\n",
    "    for i in x:\n",
    "        if i > 60:\n",
    "            cnt += 1\n",
    "        out.append(cnt)\n",
    "    return out"
   ]
  },
  {
   "cell_type": "code",
   "execution_count": 41,
   "id": "2914186a",
   "metadata": {
    "ExecuteTime": {
     "end_time": "2023-11-23T18:12:14.963427Z",
     "start_time": "2023-11-23T18:12:14.533435Z"
    }
   },
   "outputs": [],
   "source": [
    "df['session_cancel'] = session_maker(df.prev_delta)"
   ]
  },
  {
   "cell_type": "code",
   "execution_count": 42,
   "id": "35ac1527",
   "metadata": {
    "ExecuteTime": {
     "end_time": "2023-11-23T18:12:14.970603Z",
     "start_time": "2023-11-23T18:12:14.966556Z"
    }
   },
   "outputs": [],
   "source": [
    "# df_test = df[df['initiator_phone_pd_id']=='fff4fafe1bbe4b72a57496ccd93ec659']"
   ]
  },
  {
   "cell_type": "code",
   "execution_count": null,
   "id": "9c815d30",
   "metadata": {},
   "outputs": [],
   "source": []
  },
  {
   "cell_type": "code",
   "execution_count": null,
   "id": "8d0a6948",
   "metadata": {},
   "outputs": [],
   "source": []
  },
  {
   "cell_type": "code",
   "execution_count": null,
   "id": "2ac3231a",
   "metadata": {},
   "outputs": [],
   "source": []
  },
  {
   "cell_type": "code",
   "execution_count": 43,
   "id": "cdc066f2",
   "metadata": {
    "ExecuteTime": {
     "end_time": "2023-11-23T18:12:15.504160Z",
     "start_time": "2023-11-23T18:12:14.978088Z"
    }
   },
   "outputs": [],
   "source": [
    "df_agg = df[df.time_bucket.notna()].groupby(\n",
    "    ['initiator_phone_pd_id','time_bucket']).agg({'claim_uuid':'count'}).reset_index()"
   ]
  },
  {
   "cell_type": "code",
   "execution_count": 44,
   "id": "d9cc13aa",
   "metadata": {
    "ExecuteTime": {
     "end_time": "2023-11-23T18:12:15.524736Z",
     "start_time": "2023-11-23T18:12:15.507230Z"
    }
   },
   "outputs": [
    {
     "data": {
      "text/html": [
       "<div>\n",
       "<style scoped>\n",
       "    .dataframe tbody tr th:only-of-type {\n",
       "        vertical-align: middle;\n",
       "    }\n",
       "\n",
       "    .dataframe tbody tr th {\n",
       "        vertical-align: top;\n",
       "    }\n",
       "\n",
       "    .dataframe thead th {\n",
       "        text-align: right;\n",
       "    }\n",
       "</style>\n",
       "<table border=\"1\" class=\"dataframe\">\n",
       "  <thead>\n",
       "    <tr style=\"text-align: right;\">\n",
       "      <th></th>\n",
       "      <th>initiator_phone_pd_id</th>\n",
       "      <th>time_bucket</th>\n",
       "      <th>claim_uuid</th>\n",
       "    </tr>\n",
       "  </thead>\n",
       "  <tbody>\n",
       "    <tr>\n",
       "      <th>0</th>\n",
       "      <td>00001518f4224fa49a016ded16d98bd5</td>\n",
       "      <td>15.0</td>\n",
       "      <td>1</td>\n",
       "    </tr>\n",
       "    <tr>\n",
       "      <th>1</th>\n",
       "      <td>0000b3d69f4145d78d9b1e2109172159</td>\n",
       "      <td>15.0</td>\n",
       "      <td>1</td>\n",
       "    </tr>\n",
       "    <tr>\n",
       "      <th>2</th>\n",
       "      <td>00012cda5aec4bd488de27e5ca20c1d7</td>\n",
       "      <td>15.0</td>\n",
       "      <td>3</td>\n",
       "    </tr>\n",
       "    <tr>\n",
       "      <th>3</th>\n",
       "      <td>000422cebbf443308c1c3f1fe20756de</td>\n",
       "      <td>15.0</td>\n",
       "      <td>1</td>\n",
       "    </tr>\n",
       "    <tr>\n",
       "      <th>4</th>\n",
       "      <td>000450ec298e45d393e0f315fed34db9</td>\n",
       "      <td>15.0</td>\n",
       "      <td>2</td>\n",
       "    </tr>\n",
       "    <tr>\n",
       "      <th>...</th>\n",
       "      <td>...</td>\n",
       "      <td>...</td>\n",
       "      <td>...</td>\n",
       "    </tr>\n",
       "    <tr>\n",
       "      <th>93823</th>\n",
       "      <td>fffbc56ce82e4a6bb7be7b35e1c1be31</td>\n",
       "      <td>15.0</td>\n",
       "      <td>1</td>\n",
       "    </tr>\n",
       "    <tr>\n",
       "      <th>93824</th>\n",
       "      <td>fffce44bf0f440dc965a973e518c2057</td>\n",
       "      <td>15.0</td>\n",
       "      <td>1</td>\n",
       "    </tr>\n",
       "    <tr>\n",
       "      <th>93825</th>\n",
       "      <td>fffe61e76cf84ea38ed7c333db2064af</td>\n",
       "      <td>15.0</td>\n",
       "      <td>4</td>\n",
       "    </tr>\n",
       "    <tr>\n",
       "      <th>93826</th>\n",
       "      <td>ffff414f02fb43a2ba84871abee4b014</td>\n",
       "      <td>15.0</td>\n",
       "      <td>1</td>\n",
       "    </tr>\n",
       "    <tr>\n",
       "      <th>93827</th>\n",
       "      <td>ffff573dda4b49b38a261771e59e84ff</td>\n",
       "      <td>30.0</td>\n",
       "      <td>1</td>\n",
       "    </tr>\n",
       "  </tbody>\n",
       "</table>\n",
       "<p>93828 rows × 3 columns</p>\n",
       "</div>"
      ],
      "text/plain": [
       "                  initiator_phone_pd_id  time_bucket  claim_uuid\n",
       "0      00001518f4224fa49a016ded16d98bd5         15.0           1\n",
       "1      0000b3d69f4145d78d9b1e2109172159         15.0           1\n",
       "2      00012cda5aec4bd488de27e5ca20c1d7         15.0           3\n",
       "3      000422cebbf443308c1c3f1fe20756de         15.0           1\n",
       "4      000450ec298e45d393e0f315fed34db9         15.0           2\n",
       "...                                 ...          ...         ...\n",
       "93823  fffbc56ce82e4a6bb7be7b35e1c1be31         15.0           1\n",
       "93824  fffce44bf0f440dc965a973e518c2057         15.0           1\n",
       "93825  fffe61e76cf84ea38ed7c333db2064af         15.0           4\n",
       "93826  ffff414f02fb43a2ba84871abee4b014         15.0           1\n",
       "93827  ffff573dda4b49b38a261771e59e84ff         30.0           1\n",
       "\n",
       "[93828 rows x 3 columns]"
      ]
     },
     "execution_count": 44,
     "metadata": {},
     "output_type": "execute_result"
    }
   ],
   "source": [
    "df_agg"
   ]
  },
  {
   "cell_type": "code",
   "execution_count": 45,
   "id": "df562675",
   "metadata": {
    "ExecuteTime": {
     "end_time": "2023-11-23T18:12:15.657688Z",
     "start_time": "2023-11-23T18:12:15.527699Z"
    }
   },
   "outputs": [],
   "source": [
    "final = pd.pivot_table(df_agg[df_agg['claim_uuid']<=10], values='initiator_phone_pd_id',\n",
    "                       index='time_bucket', columns='claim_uuid', aggfunc=pd.Series.nunique,\n",
    "                       fill_value=0)"
   ]
  },
  {
   "cell_type": "code",
   "execution_count": 46,
   "id": "65d6c96a",
   "metadata": {
    "ExecuteTime": {
     "end_time": "2023-11-23T18:12:15.747775Z",
     "start_time": "2023-11-23T18:12:15.661242Z"
    }
   },
   "outputs": [],
   "source": [
    "final_share = (final/df_agg.initiator_phone_pd_id.nunique()).round(2)"
   ]
  },
  {
   "cell_type": "code",
   "execution_count": 47,
   "id": "e0fc2768",
   "metadata": {
    "ExecuteTime": {
     "end_time": "2023-11-23T18:12:15.766151Z",
     "start_time": "2023-11-23T18:12:15.751555Z"
    }
   },
   "outputs": [
    {
     "data": {
      "text/html": [
       "<div>\n",
       "<style scoped>\n",
       "    .dataframe tbody tr th:only-of-type {\n",
       "        vertical-align: middle;\n",
       "    }\n",
       "\n",
       "    .dataframe tbody tr th {\n",
       "        vertical-align: top;\n",
       "    }\n",
       "\n",
       "    .dataframe thead th {\n",
       "        text-align: right;\n",
       "    }\n",
       "</style>\n",
       "<table border=\"1\" class=\"dataframe\">\n",
       "  <thead>\n",
       "    <tr style=\"text-align: right;\">\n",
       "      <th>claim_uuid</th>\n",
       "      <th>1</th>\n",
       "      <th>2</th>\n",
       "      <th>3</th>\n",
       "      <th>4</th>\n",
       "      <th>5</th>\n",
       "      <th>6</th>\n",
       "      <th>7</th>\n",
       "      <th>8</th>\n",
       "      <th>9</th>\n",
       "      <th>10</th>\n",
       "    </tr>\n",
       "    <tr>\n",
       "      <th>time_bucket</th>\n",
       "      <th></th>\n",
       "      <th></th>\n",
       "      <th></th>\n",
       "      <th></th>\n",
       "      <th></th>\n",
       "      <th></th>\n",
       "      <th></th>\n",
       "      <th></th>\n",
       "      <th></th>\n",
       "      <th></th>\n",
       "    </tr>\n",
       "  </thead>\n",
       "  <tbody>\n",
       "    <tr>\n",
       "      <th>15.0</th>\n",
       "      <td>35242</td>\n",
       "      <td>12019</td>\n",
       "      <td>5756</td>\n",
       "      <td>3348</td>\n",
       "      <td>2253</td>\n",
       "      <td>1581</td>\n",
       "      <td>995</td>\n",
       "      <td>701</td>\n",
       "      <td>521</td>\n",
       "      <td>437</td>\n",
       "    </tr>\n",
       "    <tr>\n",
       "      <th>30.0</th>\n",
       "      <td>14303</td>\n",
       "      <td>1767</td>\n",
       "      <td>393</td>\n",
       "      <td>139</td>\n",
       "      <td>56</td>\n",
       "      <td>19</td>\n",
       "      <td>9</td>\n",
       "      <td>11</td>\n",
       "      <td>4</td>\n",
       "      <td>6</td>\n",
       "    </tr>\n",
       "    <tr>\n",
       "      <th>45.0</th>\n",
       "      <td>7184</td>\n",
       "      <td>540</td>\n",
       "      <td>94</td>\n",
       "      <td>24</td>\n",
       "      <td>17</td>\n",
       "      <td>3</td>\n",
       "      <td>5</td>\n",
       "      <td>2</td>\n",
       "      <td>1</td>\n",
       "      <td>0</td>\n",
       "    </tr>\n",
       "    <tr>\n",
       "      <th>60.0</th>\n",
       "      <td>4015</td>\n",
       "      <td>196</td>\n",
       "      <td>37</td>\n",
       "      <td>16</td>\n",
       "      <td>4</td>\n",
       "      <td>2</td>\n",
       "      <td>1</td>\n",
       "      <td>3</td>\n",
       "      <td>0</td>\n",
       "      <td>0</td>\n",
       "    </tr>\n",
       "  </tbody>\n",
       "</table>\n",
       "</div>"
      ],
      "text/plain": [
       "claim_uuid      1      2     3     4     5     6    7    8    9    10\n",
       "time_bucket                                                          \n",
       "15.0         35242  12019  5756  3348  2253  1581  995  701  521  437\n",
       "30.0         14303   1767   393   139    56    19    9   11    4    6\n",
       "45.0          7184    540    94    24    17     3    5    2    1    0\n",
       "60.0          4015    196    37    16     4     2    1    3    0    0"
      ]
     },
     "execution_count": 47,
     "metadata": {},
     "output_type": "execute_result"
    }
   ],
   "source": [
    "final"
   ]
  },
  {
   "cell_type": "code",
   "execution_count": 48,
   "id": "7ade7c12",
   "metadata": {
    "ExecuteTime": {
     "end_time": "2023-11-23T18:12:15.791497Z",
     "start_time": "2023-11-23T18:12:15.768926Z"
    }
   },
   "outputs": [
    {
     "data": {
      "text/html": [
       "<div>\n",
       "<style scoped>\n",
       "    .dataframe tbody tr th:only-of-type {\n",
       "        vertical-align: middle;\n",
       "    }\n",
       "\n",
       "    .dataframe tbody tr th {\n",
       "        vertical-align: top;\n",
       "    }\n",
       "\n",
       "    .dataframe thead th {\n",
       "        text-align: right;\n",
       "    }\n",
       "</style>\n",
       "<table border=\"1\" class=\"dataframe\">\n",
       "  <thead>\n",
       "    <tr style=\"text-align: right;\">\n",
       "      <th>claim_uuid</th>\n",
       "      <th>1</th>\n",
       "      <th>2</th>\n",
       "      <th>3</th>\n",
       "      <th>4</th>\n",
       "      <th>5</th>\n",
       "      <th>6</th>\n",
       "      <th>7</th>\n",
       "      <th>8</th>\n",
       "      <th>9</th>\n",
       "      <th>10</th>\n",
       "    </tr>\n",
       "    <tr>\n",
       "      <th>time_bucket</th>\n",
       "      <th></th>\n",
       "      <th></th>\n",
       "      <th></th>\n",
       "      <th></th>\n",
       "      <th></th>\n",
       "      <th></th>\n",
       "      <th></th>\n",
       "      <th></th>\n",
       "      <th></th>\n",
       "      <th></th>\n",
       "    </tr>\n",
       "  </thead>\n",
       "  <tbody>\n",
       "    <tr>\n",
       "      <th>15.0</th>\n",
       "      <td>0.46</td>\n",
       "      <td>0.16</td>\n",
       "      <td>0.07</td>\n",
       "      <td>0.04</td>\n",
       "      <td>0.03</td>\n",
       "      <td>0.02</td>\n",
       "      <td>0.01</td>\n",
       "      <td>0.01</td>\n",
       "      <td>0.01</td>\n",
       "      <td>0.01</td>\n",
       "    </tr>\n",
       "    <tr>\n",
       "      <th>30.0</th>\n",
       "      <td>0.19</td>\n",
       "      <td>0.02</td>\n",
       "      <td>0.01</td>\n",
       "      <td>0.00</td>\n",
       "      <td>0.00</td>\n",
       "      <td>0.00</td>\n",
       "      <td>0.00</td>\n",
       "      <td>0.00</td>\n",
       "      <td>0.00</td>\n",
       "      <td>0.00</td>\n",
       "    </tr>\n",
       "    <tr>\n",
       "      <th>45.0</th>\n",
       "      <td>0.09</td>\n",
       "      <td>0.01</td>\n",
       "      <td>0.00</td>\n",
       "      <td>0.00</td>\n",
       "      <td>0.00</td>\n",
       "      <td>0.00</td>\n",
       "      <td>0.00</td>\n",
       "      <td>0.00</td>\n",
       "      <td>0.00</td>\n",
       "      <td>0.00</td>\n",
       "    </tr>\n",
       "    <tr>\n",
       "      <th>60.0</th>\n",
       "      <td>0.05</td>\n",
       "      <td>0.00</td>\n",
       "      <td>0.00</td>\n",
       "      <td>0.00</td>\n",
       "      <td>0.00</td>\n",
       "      <td>0.00</td>\n",
       "      <td>0.00</td>\n",
       "      <td>0.00</td>\n",
       "      <td>0.00</td>\n",
       "      <td>0.00</td>\n",
       "    </tr>\n",
       "  </tbody>\n",
       "</table>\n",
       "</div>"
      ],
      "text/plain": [
       "claim_uuid     1     2     3     4     5     6     7     8     9     10\n",
       "time_bucket                                                            \n",
       "15.0         0.46  0.16  0.07  0.04  0.03  0.02  0.01  0.01  0.01  0.01\n",
       "30.0         0.19  0.02  0.01  0.00  0.00  0.00  0.00  0.00  0.00  0.00\n",
       "45.0         0.09  0.01  0.00  0.00  0.00  0.00  0.00  0.00  0.00  0.00\n",
       "60.0         0.05  0.00  0.00  0.00  0.00  0.00  0.00  0.00  0.00  0.00"
      ]
     },
     "execution_count": 48,
     "metadata": {},
     "output_type": "execute_result"
    }
   ],
   "source": [
    "final_share"
   ]
  },
  {
   "cell_type": "code",
   "execution_count": null,
   "id": "a168d404",
   "metadata": {},
   "outputs": [],
   "source": []
  },
  {
   "cell_type": "code",
   "execution_count": 49,
   "id": "38fbc19d",
   "metadata": {
    "ExecuteTime": {
     "end_time": "2023-11-23T18:12:17.135633Z",
     "start_time": "2023-11-23T18:12:15.794523Z"
    }
   },
   "outputs": [],
   "source": [
    "cancellation_users = df.groupby(\n",
    "    'initiator_phone_pd_id').claim_uuid.count().reset_index().sort_values(by='claim_uuid', ascending=False)"
   ]
  },
  {
   "cell_type": "code",
   "execution_count": 50,
   "id": "e4e388fc",
   "metadata": {
    "ExecuteTime": {
     "end_time": "2023-11-23T18:12:17.514521Z",
     "start_time": "2023-11-23T18:12:17.138702Z"
    }
   },
   "outputs": [],
   "source": [
    "cancellation_users_top10_perc = cancellation_users.head(\n",
    "    round(cancellation_users.initiator_phone_pd_id.nunique()*0.1))"
   ]
  },
  {
   "cell_type": "code",
   "execution_count": null,
   "id": "95b30d13",
   "metadata": {
    "ExecuteTime": {
     "end_time": "2023-05-25T11:52:41.320773Z",
     "start_time": "2023-05-25T11:52:41.287673Z"
    }
   },
   "outputs": [],
   "source": []
  },
  {
   "cell_type": "code",
   "execution_count": 51,
   "id": "6fdc2919",
   "metadata": {
    "ExecuteTime": {
     "end_time": "2023-11-23T18:12:17.580647Z",
     "start_time": "2023-11-23T18:12:17.517624Z"
    }
   },
   "outputs": [],
   "source": [
    "df_agg_top10 = df_agg[\n",
    "    df_agg['initiator_phone_pd_id'].isin(cancellation_users_top10_perc.initiator_phone_pd_id.tolist())]"
   ]
  },
  {
   "cell_type": "code",
   "execution_count": 52,
   "id": "091d5692",
   "metadata": {
    "ExecuteTime": {
     "end_time": "2023-11-23T18:12:17.665264Z",
     "start_time": "2023-11-23T18:12:17.584760Z"
    }
   },
   "outputs": [],
   "source": [
    "final_top10 = pd.pivot_table(df_agg_top10[df_agg_top10['claim_uuid']<=10], values='initiator_phone_pd_id',\n",
    "                       index='time_bucket', columns='claim_uuid', aggfunc=pd.Series.nunique,\n",
    "                       fill_value=0)"
   ]
  },
  {
   "cell_type": "code",
   "execution_count": 53,
   "id": "95f052b7",
   "metadata": {
    "ExecuteTime": {
     "end_time": "2023-11-23T18:12:17.710808Z",
     "start_time": "2023-11-23T18:12:17.669553Z"
    }
   },
   "outputs": [],
   "source": [
    "final_share_top10 = (final_top10/df_agg_top10.initiator_phone_pd_id.nunique()).round(2)"
   ]
  },
  {
   "cell_type": "code",
   "execution_count": 54,
   "id": "8323ca01",
   "metadata": {
    "ExecuteTime": {
     "end_time": "2023-11-23T18:12:17.731059Z",
     "start_time": "2023-11-23T18:12:17.714108Z"
    }
   },
   "outputs": [
    {
     "data": {
      "text/html": [
       "<div>\n",
       "<style scoped>\n",
       "    .dataframe tbody tr th:only-of-type {\n",
       "        vertical-align: middle;\n",
       "    }\n",
       "\n",
       "    .dataframe tbody tr th {\n",
       "        vertical-align: top;\n",
       "    }\n",
       "\n",
       "    .dataframe thead th {\n",
       "        text-align: right;\n",
       "    }\n",
       "</style>\n",
       "<table border=\"1\" class=\"dataframe\">\n",
       "  <thead>\n",
       "    <tr style=\"text-align: right;\">\n",
       "      <th>claim_uuid</th>\n",
       "      <th>1</th>\n",
       "      <th>2</th>\n",
       "      <th>3</th>\n",
       "      <th>4</th>\n",
       "      <th>5</th>\n",
       "      <th>6</th>\n",
       "      <th>7</th>\n",
       "      <th>8</th>\n",
       "      <th>9</th>\n",
       "      <th>10</th>\n",
       "    </tr>\n",
       "    <tr>\n",
       "      <th>time_bucket</th>\n",
       "      <th></th>\n",
       "      <th></th>\n",
       "      <th></th>\n",
       "      <th></th>\n",
       "      <th></th>\n",
       "      <th></th>\n",
       "      <th></th>\n",
       "      <th></th>\n",
       "      <th></th>\n",
       "      <th></th>\n",
       "    </tr>\n",
       "  </thead>\n",
       "  <tbody>\n",
       "    <tr>\n",
       "      <th>15.0</th>\n",
       "      <td>5914</td>\n",
       "      <td>5508</td>\n",
       "      <td>4575</td>\n",
       "      <td>3348</td>\n",
       "      <td>2253</td>\n",
       "      <td>1581</td>\n",
       "      <td>995</td>\n",
       "      <td>701</td>\n",
       "      <td>521</td>\n",
       "      <td>437</td>\n",
       "    </tr>\n",
       "    <tr>\n",
       "      <th>30.0</th>\n",
       "      <td>6627</td>\n",
       "      <td>1554</td>\n",
       "      <td>387</td>\n",
       "      <td>139</td>\n",
       "      <td>56</td>\n",
       "      <td>19</td>\n",
       "      <td>9</td>\n",
       "      <td>11</td>\n",
       "      <td>4</td>\n",
       "      <td>6</td>\n",
       "    </tr>\n",
       "    <tr>\n",
       "      <th>45.0</th>\n",
       "      <td>3627</td>\n",
       "      <td>506</td>\n",
       "      <td>93</td>\n",
       "      <td>24</td>\n",
       "      <td>17</td>\n",
       "      <td>3</td>\n",
       "      <td>5</td>\n",
       "      <td>2</td>\n",
       "      <td>1</td>\n",
       "      <td>0</td>\n",
       "    </tr>\n",
       "    <tr>\n",
       "      <th>60.0</th>\n",
       "      <td>2216</td>\n",
       "      <td>181</td>\n",
       "      <td>37</td>\n",
       "      <td>16</td>\n",
       "      <td>4</td>\n",
       "      <td>2</td>\n",
       "      <td>1</td>\n",
       "      <td>3</td>\n",
       "      <td>0</td>\n",
       "      <td>0</td>\n",
       "    </tr>\n",
       "  </tbody>\n",
       "</table>\n",
       "</div>"
      ],
      "text/plain": [
       "claim_uuid     1     2     3     4     5     6    7    8    9    10\n",
       "time_bucket                                                        \n",
       "15.0         5914  5508  4575  3348  2253  1581  995  701  521  437\n",
       "30.0         6627  1554   387   139    56    19    9   11    4    6\n",
       "45.0         3627   506    93    24    17     3    5    2    1    0\n",
       "60.0         2216   181    37    16     4     2    1    3    0    0"
      ]
     },
     "execution_count": 54,
     "metadata": {},
     "output_type": "execute_result"
    }
   ],
   "source": [
    "final_top10"
   ]
  },
  {
   "cell_type": "code",
   "execution_count": 55,
   "id": "12a8ab66",
   "metadata": {
    "ExecuteTime": {
     "end_time": "2023-11-23T18:12:17.757777Z",
     "start_time": "2023-11-23T18:12:17.734282Z"
    }
   },
   "outputs": [
    {
     "data": {
      "text/html": [
       "<div>\n",
       "<style scoped>\n",
       "    .dataframe tbody tr th:only-of-type {\n",
       "        vertical-align: middle;\n",
       "    }\n",
       "\n",
       "    .dataframe tbody tr th {\n",
       "        vertical-align: top;\n",
       "    }\n",
       "\n",
       "    .dataframe thead th {\n",
       "        text-align: right;\n",
       "    }\n",
       "</style>\n",
       "<table border=\"1\" class=\"dataframe\">\n",
       "  <thead>\n",
       "    <tr style=\"text-align: right;\">\n",
       "      <th>claim_uuid</th>\n",
       "      <th>1</th>\n",
       "      <th>2</th>\n",
       "      <th>3</th>\n",
       "      <th>4</th>\n",
       "      <th>5</th>\n",
       "      <th>6</th>\n",
       "      <th>7</th>\n",
       "      <th>8</th>\n",
       "      <th>9</th>\n",
       "      <th>10</th>\n",
       "    </tr>\n",
       "    <tr>\n",
       "      <th>time_bucket</th>\n",
       "      <th></th>\n",
       "      <th></th>\n",
       "      <th></th>\n",
       "      <th></th>\n",
       "      <th></th>\n",
       "      <th></th>\n",
       "      <th></th>\n",
       "      <th></th>\n",
       "      <th></th>\n",
       "      <th></th>\n",
       "    </tr>\n",
       "  </thead>\n",
       "  <tbody>\n",
       "    <tr>\n",
       "      <th>15.0</th>\n",
       "      <td>0.20</td>\n",
       "      <td>0.19</td>\n",
       "      <td>0.15</td>\n",
       "      <td>0.11</td>\n",
       "      <td>0.08</td>\n",
       "      <td>0.05</td>\n",
       "      <td>0.03</td>\n",
       "      <td>0.02</td>\n",
       "      <td>0.02</td>\n",
       "      <td>0.01</td>\n",
       "    </tr>\n",
       "    <tr>\n",
       "      <th>30.0</th>\n",
       "      <td>0.22</td>\n",
       "      <td>0.05</td>\n",
       "      <td>0.01</td>\n",
       "      <td>0.00</td>\n",
       "      <td>0.00</td>\n",
       "      <td>0.00</td>\n",
       "      <td>0.00</td>\n",
       "      <td>0.00</td>\n",
       "      <td>0.00</td>\n",
       "      <td>0.00</td>\n",
       "    </tr>\n",
       "    <tr>\n",
       "      <th>45.0</th>\n",
       "      <td>0.12</td>\n",
       "      <td>0.02</td>\n",
       "      <td>0.00</td>\n",
       "      <td>0.00</td>\n",
       "      <td>0.00</td>\n",
       "      <td>0.00</td>\n",
       "      <td>0.00</td>\n",
       "      <td>0.00</td>\n",
       "      <td>0.00</td>\n",
       "      <td>0.00</td>\n",
       "    </tr>\n",
       "    <tr>\n",
       "      <th>60.0</th>\n",
       "      <td>0.07</td>\n",
       "      <td>0.01</td>\n",
       "      <td>0.00</td>\n",
       "      <td>0.00</td>\n",
       "      <td>0.00</td>\n",
       "      <td>0.00</td>\n",
       "      <td>0.00</td>\n",
       "      <td>0.00</td>\n",
       "      <td>0.00</td>\n",
       "      <td>0.00</td>\n",
       "    </tr>\n",
       "  </tbody>\n",
       "</table>\n",
       "</div>"
      ],
      "text/plain": [
       "claim_uuid     1     2     3     4     5     6     7     8     9     10\n",
       "time_bucket                                                            \n",
       "15.0         0.20  0.19  0.15  0.11  0.08  0.05  0.03  0.02  0.02  0.01\n",
       "30.0         0.22  0.05  0.01  0.00  0.00  0.00  0.00  0.00  0.00  0.00\n",
       "45.0         0.12  0.02  0.00  0.00  0.00  0.00  0.00  0.00  0.00  0.00\n",
       "60.0         0.07  0.01  0.00  0.00  0.00  0.00  0.00  0.00  0.00  0.00"
      ]
     },
     "execution_count": 55,
     "metadata": {},
     "output_type": "execute_result"
    }
   ],
   "source": [
    "final_share_top10"
   ]
  },
  {
   "cell_type": "code",
   "execution_count": 56,
   "id": "54cda055",
   "metadata": {
    "ExecuteTime": {
     "end_time": "2023-11-23T18:12:21.726125Z",
     "start_time": "2023-11-23T18:12:17.760569Z"
    }
   },
   "outputs": [],
   "source": [
    "df['cancel_number'] = df.sort_values(['utc_claim_finish_dttm'], ascending=True)\\\n",
    "             .groupby(['session_cancel'])\\\n",
    "             .cumcount() + 1"
   ]
  },
  {
   "cell_type": "code",
   "execution_count": 57,
   "id": "46b3030b",
   "metadata": {
    "ExecuteTime": {
     "end_time": "2023-11-23T18:14:01.395326Z",
     "start_time": "2023-11-23T18:12:21.730119Z"
    }
   },
   "outputs": [],
   "source": [
    "session_cancel = df.groupby('session_cancel')['utc_claim_finish_dttm'].min().reset_index()\n",
    "df = df.merge(session_cancel, how='left', on='session_cancel')\n",
    "df.rename(columns={\n",
    "    'utc_claim_finish_dttm_x':'utc_claim_finish_dttm','utc_claim_finish_dttm_y':'start_session'}, inplace=True)"
   ]
  },
  {
   "cell_type": "code",
   "execution_count": 58,
   "id": "ec1ee193",
   "metadata": {
    "ExecuteTime": {
     "end_time": "2023-11-23T18:14:03.383643Z",
     "start_time": "2023-11-23T18:14:01.398797Z"
    }
   },
   "outputs": [
    {
     "ename": "TypeError",
     "evalue": "strptime() argument 1 must be str, not Series",
     "output_type": "error",
     "traceback": [
      "\u001b[0;31m---------------------------------------------------------------------------\u001b[0m",
      "\u001b[0;31mTypeError\u001b[0m                                 Traceback (most recent call last)",
      "\u001b[0;32m/tmp/ipykernel_205037/2725573754.py\u001b[0m in \u001b[0;36m<module>\u001b[0;34m\u001b[0m\n\u001b[1;32m      1\u001b[0m df['time_from_start'] = df.apply(lambda x: (\n\u001b[0;32m----> 2\u001b[0;31m     datetime.strptime(x.utc_claim_finish_dttm, fmt) - datetime.strptime(x.start_session, fmt)) // timedelta(minutes=1), axis=1)\n\u001b[0m",
      "\u001b[0;32m/usr/local/lib/python3.7/dist-packages/pandas/core/frame.py\u001b[0m in \u001b[0;36mapply\u001b[0;34m(self, func, axis, raw, result_type, args, **kwargs)\u001b[0m\n\u001b[1;32m   8738\u001b[0m             \u001b[0mkwargs\u001b[0m\u001b[0;34m=\u001b[0m\u001b[0mkwargs\u001b[0m\u001b[0;34m,\u001b[0m\u001b[0;34m\u001b[0m\u001b[0;34m\u001b[0m\u001b[0m\n\u001b[1;32m   8739\u001b[0m         )\n\u001b[0;32m-> 8740\u001b[0;31m         \u001b[0;32mreturn\u001b[0m \u001b[0mop\u001b[0m\u001b[0;34m.\u001b[0m\u001b[0mapply\u001b[0m\u001b[0;34m(\u001b[0m\u001b[0;34m)\u001b[0m\u001b[0;34m\u001b[0m\u001b[0;34m\u001b[0m\u001b[0m\n\u001b[0m\u001b[1;32m   8741\u001b[0m \u001b[0;34m\u001b[0m\u001b[0m\n\u001b[1;32m   8742\u001b[0m     def applymap(\n",
      "\u001b[0;32m/usr/local/lib/python3.7/dist-packages/pandas/core/apply.py\u001b[0m in \u001b[0;36mapply\u001b[0;34m(self)\u001b[0m\n\u001b[1;32m    686\u001b[0m             \u001b[0;32mreturn\u001b[0m \u001b[0mself\u001b[0m\u001b[0;34m.\u001b[0m\u001b[0mapply_raw\u001b[0m\u001b[0;34m(\u001b[0m\u001b[0;34m)\u001b[0m\u001b[0;34m\u001b[0m\u001b[0;34m\u001b[0m\u001b[0m\n\u001b[1;32m    687\u001b[0m \u001b[0;34m\u001b[0m\u001b[0m\n\u001b[0;32m--> 688\u001b[0;31m         \u001b[0;32mreturn\u001b[0m \u001b[0mself\u001b[0m\u001b[0;34m.\u001b[0m\u001b[0mapply_standard\u001b[0m\u001b[0;34m(\u001b[0m\u001b[0;34m)\u001b[0m\u001b[0;34m\u001b[0m\u001b[0;34m\u001b[0m\u001b[0m\n\u001b[0m\u001b[1;32m    689\u001b[0m \u001b[0;34m\u001b[0m\u001b[0m\n\u001b[1;32m    690\u001b[0m     \u001b[0;32mdef\u001b[0m \u001b[0magg\u001b[0m\u001b[0;34m(\u001b[0m\u001b[0mself\u001b[0m\u001b[0;34m)\u001b[0m\u001b[0;34m:\u001b[0m\u001b[0;34m\u001b[0m\u001b[0;34m\u001b[0m\u001b[0m\n",
      "\u001b[0;32m/usr/local/lib/python3.7/dist-packages/pandas/core/apply.py\u001b[0m in \u001b[0;36mapply_standard\u001b[0;34m(self)\u001b[0m\n\u001b[1;32m    810\u001b[0m \u001b[0;34m\u001b[0m\u001b[0m\n\u001b[1;32m    811\u001b[0m     \u001b[0;32mdef\u001b[0m \u001b[0mapply_standard\u001b[0m\u001b[0;34m(\u001b[0m\u001b[0mself\u001b[0m\u001b[0;34m)\u001b[0m\u001b[0;34m:\u001b[0m\u001b[0;34m\u001b[0m\u001b[0;34m\u001b[0m\u001b[0m\n\u001b[0;32m--> 812\u001b[0;31m         \u001b[0mresults\u001b[0m\u001b[0;34m,\u001b[0m \u001b[0mres_index\u001b[0m \u001b[0;34m=\u001b[0m \u001b[0mself\u001b[0m\u001b[0;34m.\u001b[0m\u001b[0mapply_series_generator\u001b[0m\u001b[0;34m(\u001b[0m\u001b[0;34m)\u001b[0m\u001b[0;34m\u001b[0m\u001b[0;34m\u001b[0m\u001b[0m\n\u001b[0m\u001b[1;32m    813\u001b[0m \u001b[0;34m\u001b[0m\u001b[0m\n\u001b[1;32m    814\u001b[0m         \u001b[0;31m# wrap results\u001b[0m\u001b[0;34m\u001b[0m\u001b[0;34m\u001b[0m\u001b[0;34m\u001b[0m\u001b[0m\n",
      "\u001b[0;32m/usr/local/lib/python3.7/dist-packages/pandas/core/apply.py\u001b[0m in \u001b[0;36mapply_series_generator\u001b[0;34m(self)\u001b[0m\n\u001b[1;32m    826\u001b[0m             \u001b[0;32mfor\u001b[0m \u001b[0mi\u001b[0m\u001b[0;34m,\u001b[0m \u001b[0mv\u001b[0m \u001b[0;32min\u001b[0m \u001b[0menumerate\u001b[0m\u001b[0;34m(\u001b[0m\u001b[0mseries_gen\u001b[0m\u001b[0;34m)\u001b[0m\u001b[0;34m:\u001b[0m\u001b[0;34m\u001b[0m\u001b[0;34m\u001b[0m\u001b[0m\n\u001b[1;32m    827\u001b[0m                 \u001b[0;31m# ignore SettingWithCopy here in case the user mutates\u001b[0m\u001b[0;34m\u001b[0m\u001b[0;34m\u001b[0m\u001b[0;34m\u001b[0m\u001b[0m\n\u001b[0;32m--> 828\u001b[0;31m                 \u001b[0mresults\u001b[0m\u001b[0;34m[\u001b[0m\u001b[0mi\u001b[0m\u001b[0;34m]\u001b[0m \u001b[0;34m=\u001b[0m \u001b[0mself\u001b[0m\u001b[0;34m.\u001b[0m\u001b[0mf\u001b[0m\u001b[0;34m(\u001b[0m\u001b[0mv\u001b[0m\u001b[0;34m)\u001b[0m\u001b[0;34m\u001b[0m\u001b[0;34m\u001b[0m\u001b[0m\n\u001b[0m\u001b[1;32m    829\u001b[0m                 \u001b[0;32mif\u001b[0m \u001b[0misinstance\u001b[0m\u001b[0;34m(\u001b[0m\u001b[0mresults\u001b[0m\u001b[0;34m[\u001b[0m\u001b[0mi\u001b[0m\u001b[0;34m]\u001b[0m\u001b[0;34m,\u001b[0m \u001b[0mABCSeries\u001b[0m\u001b[0;34m)\u001b[0m\u001b[0;34m:\u001b[0m\u001b[0;34m\u001b[0m\u001b[0;34m\u001b[0m\u001b[0m\n\u001b[1;32m    830\u001b[0m                     \u001b[0;31m# If we have a view on v, we need to make a copy because\u001b[0m\u001b[0;34m\u001b[0m\u001b[0;34m\u001b[0m\u001b[0;34m\u001b[0m\u001b[0m\n",
      "\u001b[0;32m/tmp/ipykernel_205037/2725573754.py\u001b[0m in \u001b[0;36m<lambda>\u001b[0;34m(x)\u001b[0m\n\u001b[1;32m      1\u001b[0m df['time_from_start'] = df.apply(lambda x: (\n\u001b[0;32m----> 2\u001b[0;31m     datetime.strptime(x.utc_claim_finish_dttm, fmt) - datetime.strptime(x.start_session, fmt)) // timedelta(minutes=1), axis=1)\n\u001b[0m",
      "\u001b[0;31mTypeError\u001b[0m: strptime() argument 1 must be str, not Series"
     ]
    }
   ],
   "source": [
    "df['time_from_start'] = df.apply(lambda x: (\n",
    "    datetime.strptime(x.utc_claim_finish_dttm, fmt) - datetime.strptime(x.start_session, fmt)) // timedelta(minutes=1), axis=1)"
   ]
  },
  {
   "cell_type": "code",
   "execution_count": null,
   "id": "33516762",
   "metadata": {
    "ExecuteTime": {
     "end_time": "2023-11-23T18:14:03.386574Z",
     "start_time": "2023-11-23T18:14:03.386550Z"
    }
   },
   "outputs": [],
   "source": [
    "df['prev_time_from_start'] = df.sort_values(by=['utc_claim_finish_dttm'],ascending=True).groupby(\n",
    "    ['session_cancel'])['time_from_start'].shift(1)\n",
    "df['prev_time_from_start'].fillna(0, inplace=True)\n",
    "df['prev_time_from_start'] = df['prev_time_from_start'].astype(int)"
   ]
  },
  {
   "cell_type": "code",
   "execution_count": null,
   "id": "a9226410",
   "metadata": {
    "ExecuteTime": {
     "end_time": "2023-11-23T18:14:03.389013Z",
     "start_time": "2023-11-23T18:14:03.388989Z"
    }
   },
   "outputs": [],
   "source": [
    "cans, mins  = [i for i in range(2, 6)], [15, 30, 45, 60]"
   ]
  },
  {
   "cell_type": "code",
   "execution_count": null,
   "id": "cae75c98",
   "metadata": {
    "ExecuteTime": {
     "end_time": "2023-11-23T18:14:03.391258Z",
     "start_time": "2023-11-23T18:14:03.391233Z"
    },
    "scrolled": false
   },
   "outputs": [],
   "source": [
    "map_dict = {'initiator_phone_pd_id':'Affected users', 'claim_uuid':'Affected claims'}\n",
    "totals = dict(df[['initiator_phone_pd_id', 'claim_uuid']].nunique())\n",
    "\n",
    "for i in product(cans, mins):\n",
    "    df_iter = df[(df['cancel_number']>i[0])&(df['prev_time_from_start']<=i[1])]\n",
    "    print(f'for {i[0]} cancellations in {i[1]} min:')\n",
    "    for k, v in dict(df_iter[['initiator_phone_pd_id', 'claim_uuid']].nunique()).items():\n",
    "        print(f'{map_dict.get(k)}: {v}, {(round(v/totals.get(k), 3))} of total')\n",
    "    print('--------------------------------------')"
   ]
  },
  {
   "cell_type": "code",
   "execution_count": null,
   "id": "c5b03a98",
   "metadata": {},
   "outputs": [],
   "source": []
  }
 ],
 "metadata": {
  "kernelspec": {
   "display_name": "Python 3",
   "language": "python",
   "name": "python3"
  },
  "language_info": {
   "codemirror_mode": {
    "name": "ipython",
    "version": 3
   },
   "file_extension": ".py",
   "mimetype": "text/x-python",
   "name": "python",
   "nbconvert_exporter": "python",
   "pygments_lexer": "ipython3",
   "version": "3.7.5"
  }
 },
 "nbformat": 4,
 "nbformat_minor": 5
}
