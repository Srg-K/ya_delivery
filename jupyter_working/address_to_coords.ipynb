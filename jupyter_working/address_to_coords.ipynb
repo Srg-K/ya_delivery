{
 "cells": [
  {
   "cell_type": "code",
   "execution_count": 2,
   "id": "d0d89136",
   "metadata": {},
   "outputs": [
    {
     "name": "stdout",
     "output_type": "stream",
     "text": [
      "\u001b[33mDEPRECATION: Configuring installation scheme with distutils config files is deprecated and will no longer work in the near future. If you are using a Homebrew or Linuxbrew Python, please see discussion at https://github.com/Homebrew/homebrew-core/issues/76621\u001b[0m\u001b[33m\n",
      "\u001b[0mCollecting yandex_geocoder\n",
      "  Downloading yandex_geocoder-3.0.1-py3-none-any.whl (4.3 kB)\n",
      "Requirement already satisfied: requests<3.0.0,>=2.28.1 in /Users/ghostrider/Library/Python/3.9/lib/python/site-packages (from yandex_geocoder) (2.30.0)\n",
      "Requirement already satisfied: charset-normalizer<4,>=2 in /Users/ghostrider/Library/Python/3.9/lib/python/site-packages (from requests<3.0.0,>=2.28.1->yandex_geocoder) (3.1.0)\n",
      "Requirement already satisfied: idna<4,>=2.5 in /opt/homebrew/lib/python3.9/site-packages (from requests<3.0.0,>=2.28.1->yandex_geocoder) (3.4)\n",
      "Requirement already satisfied: urllib3<3,>=1.21.1 in /Users/ghostrider/Library/Python/3.9/lib/python/site-packages (from requests<3.0.0,>=2.28.1->yandex_geocoder) (1.26.15)\n",
      "Requirement already satisfied: certifi>=2017.4.17 in /Users/ghostrider/Library/Python/3.9/lib/python/site-packages (from requests<3.0.0,>=2.28.1->yandex_geocoder) (2023.5.7)\n",
      "Installing collected packages: yandex_geocoder\n",
      "\u001b[33m  DEPRECATION: Configuring installation scheme with distutils config files is deprecated and will no longer work in the near future. If you are using a Homebrew or Linuxbrew Python, please see discussion at https://github.com/Homebrew/homebrew-core/issues/76621\u001b[0m\u001b[33m\n",
      "\u001b[0m\u001b[33mDEPRECATION: Configuring installation scheme with distutils config files is deprecated and will no longer work in the near future. If you are using a Homebrew or Linuxbrew Python, please see discussion at https://github.com/Homebrew/homebrew-core/issues/76621\u001b[0m\u001b[33m\n",
      "\u001b[0mSuccessfully installed yandex_geocoder-3.0.1\n"
     ]
    }
   ],
   "source": [
    "#!pip install yandex_geocoder"
   ]
  },
  {
   "cell_type": "code",
   "execution_count": 4,
   "id": "dbfd44d9",
   "metadata": {},
   "outputs": [],
   "source": [
    "from yandex_geocoder import Client\n",
    "import pandas as pd"
   ]
  },
  {
   "cell_type": "code",
   "execution_count": 5,
   "id": "584d063e",
   "metadata": {},
   "outputs": [],
   "source": [
    "geo_client = Client('952d873c-cfc9-4d65-8902-fe10869eb616')"
   ]
  },
  {
   "cell_type": "code",
   "execution_count": 7,
   "id": "8d05fad1",
   "metadata": {},
   "outputs": [
    {
     "data": {
      "text/plain": [
       "[Decimal('37.455004'), Decimal('55.795499')]"
      ]
     },
     "execution_count": 7,
     "metadata": {},
     "output_type": "execute_result"
    }
   ],
   "source": [
    "list(geo_client.coordinates(\"г. Москва, ул. Живописная, д. 40\"))"
   ]
  },
  {
   "cell_type": "code",
   "execution_count": null,
   "id": "68c6d2f6",
   "metadata": {},
   "outputs": [],
   "source": []
  }
 ],
 "metadata": {
  "kernelspec": {
   "display_name": "Python 3 (ipykernel)",
   "language": "python",
   "name": "python3"
  },
  "language_info": {
   "codemirror_mode": {
    "name": "ipython",
    "version": 3
   },
   "file_extension": ".py",
   "mimetype": "text/x-python",
   "name": "python",
   "nbconvert_exporter": "python",
   "pygments_lexer": "ipython3",
   "version": "3.9.16"
  }
 },
 "nbformat": 4,
 "nbformat_minor": 5
}
