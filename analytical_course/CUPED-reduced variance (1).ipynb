{
 "cells": [
  {
   "cell_type": "code",
   "execution_count": 14,
   "metadata": {},
   "outputs": [],
   "source": [
    "import numpy as np\n",
    "import seaborn as sns\n",
    "from matplotlib import pyplot as plt\n",
    "import pandas as pd\n",
    "from scipy import stats"
   ]
  },
  {
   "cell_type": "markdown",
   "metadata": {},
   "source": [
    "## CUPED\n",
    "\n",
    "**CUPED (control upper pre experimented data)** — методика, предложенная аналитической командой Microsoft.  \n",
    "Используется Amazon, eBay, Facebook, Google, Microsoft, Yahoo, Zynga, Netflix.  \n",
    "\n",
    "Используя CUPED, мы учитываем уже **существующие данные** о поведении пользователя до эксперимента, чтобы **снизить дисперсию метрики и повысить чувствительность**.  \n",
    "👉 Это позволяет получить тот же уровень статистической мощности при уменьшении размера выборки почти в два раза.\n",
    "\n",
    "\n",
    "Вместо исходной метрики вводим новую CUPED-метрику. Рассмотрим, как новая метрика приводит к снижению дисперсии."
   ]
  },
  {
   "cell_type": "markdown",
   "metadata": {},
   "source": [
    "> 💬 Метод имеет немного условий для его применения.  \n",
    "\n",
    "**1. Допустим, у нас есть две случайных величины $Y$ и $X$.**  \n",
    "\n",
    "$Х$ — это случайная величина до начала эксперимента (то, что $Х$ берется из данных до эксперимента важно, т.к. именно поэтому мы можем вычислить среднее от $Х$),   \n",
    "$У$ — после запуска эксперимента. \n",
    "Также есть параметр $\\theta$, с помощью которого мы можем ввести следующее распределение:  \n",
    "\n",
    "$Y_{CUPED}=Y-\\theta(X-\\overline X)$\n",
    "\n",
    "\n",
    "**2. Найдем дисперсию нашей метрики:**  \n",
    "\n",
    "$var_{srs}(Y_{CUPED})=var_{srs}(Y)+\\theta^2var_{srs}(X)-2\\theta cov_{srs}(X,Y)$\n",
    "\n",
    "Задача сводится к тому, что мы хотим снизить дисперсию нашего распределения $Y_{CUPED}$.   \n",
    "\n",
    "**4. Подберем такой параметр $\\theta$, чтобы дисперсия была минимальна.**    \n",
    "\n",
    "💬 Дисперсия — это квадратичная функция относительно $\\theta$ (то есть парабола, у которой ветви направлены вверх). Мы берем производную дисперсии по $\\theta$ и приравниваем к нулю. Таким образом, мы получим значение $\\theta_{optimal}$, при котором дисперсия будет минимальна (нижнюю точку параболы): \n",
    "\n",
    "$\\theta_{optimal}=cov_{srs}(X,Y)/var_{srs}(X)$\n",
    "\n",
    "**4. Подставим оптимальное значение $\\theta$ в формулу дисперсии:**\n",
    "\n",
    "$var_{srs}{(Y_{CUPED})}_{min}=var_{srs}(Y)(1-\\rho^2),\\;\\rho=corr_{srs}(X,Y)$\n",
    "\n",
    "👉 Множитель $(1-\\rho^2)$ говорит о том, что чем сильнее корреляция между $Х$ и $У$ (то есть чем лучше исторические данные предсказывают будущие), тем больше слагаемое $\\rho^2$ — тем сильнее удается снизить дисперсию в результате CUPED. \n",
    "___\n",
    "Выше мы провели математические преобразования, используя лишь основы теории вероятности. Добавим контекста из аналитики.   \n",
    "$Y$ — это наша основная выборка, которую мы получили по результатам эксперимента.  \n",
    "$X$ — это некоторая выборка по тем же экспериментальным единицам (например, по тем же самым пользователям, которая была получена до эксперимента).    \n",
    "\n",
    "При этом для того, чтобы методика работала, вообще не обязательно, чтобы $X$ и $Y$ были связаны.  \n",
    "* Если они не связаны $(\\rho=0)$, то метрика CUPED превращается в исходную метрику (имеет такую же дисперсию, то есть мы не получаем никакой пользы).  \n",
    "* Чем больше $X$ и $Y$ связаны, тем больше снижается дисперсия. Даже если это разные показатели. Мы можем использовать (для $X$) в метрике CUPED как прошлые значения того же показателя $Y$, так и любой другой показатель. \n",
    "\n",
    "На практике получается хорошо связывать расходы пользователей или количество размещаемых объявлений из периода до с периодом после. Этот метод также даёт простор для формирования метрик на основе машинного обучения (выбирая $X$, мы по сути решаем задачу предсказания $Y$ на основе данных из предыдущих периодов).\n",
    "\n",
    "\n",
    "💬 Если по элементам из $Y$ (например, пользователям), нет исторических данных в $X$, то мы просто ставим 0.\n",
    "\n",
    "В тех случаях, когда мы вносим сильное изменение и исторические данные будут плохо предсказывать тестовые данные, в качестве $Х$ и $У$ берем именно совокупные данные теста и контроля. Чем сильнее изменение, тем меньше будет корреляция $Х$ и $У$, и тем меньше снижение дисперсии. \n",
    "Если изменения сильные, то **Т-тест** и на исходной выборке покажет значимые отличия. А вот для более слабых изменений мы можем применить Т-тест не напрямую, а на метрику CUPED. Поскольку изменение слабое, то корреляция $Х$ и $У$ будет присутствовать, что снизит дисперсию. При этом на выборке с меньшей дисперсией Т-тест будет иметь большую мощность (с большей вероятностью сможем найти значимое отличие).\n",
    "\n",
    ">📌 Нужно сначала найти метрику, которая хорошо скоррелирована, а только потом применять метод CUPED."
   ]
  },
  {
   "cell_type": "markdown",
   "metadata": {},
   "source": [
    "Рассмотрим пример применения CUPED для реальных результатов AB-теста."
   ]
  },
  {
   "cell_type": "markdown",
   "metadata": {},
   "source": [
    "Загружаем данные эксперимента:"
   ]
  },
  {
   "cell_type": "code",
   "execution_count": 15,
   "metadata": {},
   "outputs": [],
   "source": [
    "data_test=pd.read_csv('promt_test.csv')"
   ]
  },
  {
   "cell_type": "code",
   "execution_count": 16,
   "metadata": {},
   "outputs": [
    {
     "data": {
      "text/html": [
       "<div>\n",
       "<style scoped>\n",
       "    .dataframe tbody tr th:only-of-type {\n",
       "        vertical-align: middle;\n",
       "    }\n",
       "\n",
       "    .dataframe tbody tr th {\n",
       "        vertical-align: top;\n",
       "    }\n",
       "\n",
       "    .dataframe thead th {\n",
       "        text-align: right;\n",
       "    }\n",
       "</style>\n",
       "<table border=\"1\" class=\"dataframe\">\n",
       "  <thead>\n",
       "    <tr style=\"text-align: right;\">\n",
       "      <th></th>\n",
       "      <th>test_group</th>\n",
       "      <th>user_bucket</th>\n",
       "      <th>revenue</th>\n",
       "      <th>pre_revenue</th>\n",
       "    </tr>\n",
       "  </thead>\n",
       "  <tbody>\n",
       "    <tr>\n",
       "      <th>0</th>\n",
       "      <td>control</td>\n",
       "      <td>0.0</td>\n",
       "      <td>1.541235e+06</td>\n",
       "      <td>2.431853e+06</td>\n",
       "    </tr>\n",
       "    <tr>\n",
       "      <th>1</th>\n",
       "      <td>control</td>\n",
       "      <td>1.0</td>\n",
       "      <td>1.540157e+06</td>\n",
       "      <td>2.567391e+06</td>\n",
       "    </tr>\n",
       "    <tr>\n",
       "      <th>2</th>\n",
       "      <td>control</td>\n",
       "      <td>2.0</td>\n",
       "      <td>1.658264e+06</td>\n",
       "      <td>2.568697e+06</td>\n",
       "    </tr>\n",
       "    <tr>\n",
       "      <th>3</th>\n",
       "      <td>control</td>\n",
       "      <td>3.0</td>\n",
       "      <td>2.007450e+06</td>\n",
       "      <td>2.962268e+06</td>\n",
       "    </tr>\n",
       "    <tr>\n",
       "      <th>4</th>\n",
       "      <td>control</td>\n",
       "      <td>4.0</td>\n",
       "      <td>1.976987e+06</td>\n",
       "      <td>2.910092e+06</td>\n",
       "    </tr>\n",
       "    <tr>\n",
       "      <th>...</th>\n",
       "      <td>...</td>\n",
       "      <td>...</td>\n",
       "      <td>...</td>\n",
       "      <td>...</td>\n",
       "    </tr>\n",
       "    <tr>\n",
       "      <th>145</th>\n",
       "      <td>new_lk_rec</td>\n",
       "      <td>45.0</td>\n",
       "      <td>1.991105e+06</td>\n",
       "      <td>3.182075e+06</td>\n",
       "    </tr>\n",
       "    <tr>\n",
       "      <th>146</th>\n",
       "      <td>new_lk_rec</td>\n",
       "      <td>46.0</td>\n",
       "      <td>1.858896e+06</td>\n",
       "      <td>2.726123e+06</td>\n",
       "    </tr>\n",
       "    <tr>\n",
       "      <th>147</th>\n",
       "      <td>new_lk_rec</td>\n",
       "      <td>47.0</td>\n",
       "      <td>1.695438e+06</td>\n",
       "      <td>2.564411e+06</td>\n",
       "    </tr>\n",
       "    <tr>\n",
       "      <th>148</th>\n",
       "      <td>new_lk_rec</td>\n",
       "      <td>48.0</td>\n",
       "      <td>1.710189e+06</td>\n",
       "      <td>3.066091e+06</td>\n",
       "    </tr>\n",
       "    <tr>\n",
       "      <th>149</th>\n",
       "      <td>new_lk_rec</td>\n",
       "      <td>49.0</td>\n",
       "      <td>2.301202e+06</td>\n",
       "      <td>3.685269e+06</td>\n",
       "    </tr>\n",
       "  </tbody>\n",
       "</table>\n",
       "<p>150 rows × 4 columns</p>\n",
       "</div>"
      ],
      "text/plain": [
       "     test_group  user_bucket       revenue   pre_revenue\n",
       "0       control          0.0  1.541235e+06  2.431853e+06\n",
       "1       control          1.0  1.540157e+06  2.567391e+06\n",
       "2       control          2.0  1.658264e+06  2.568697e+06\n",
       "3       control          3.0  2.007450e+06  2.962268e+06\n",
       "4       control          4.0  1.976987e+06  2.910092e+06\n",
       "..          ...          ...           ...           ...\n",
       "145  new_lk_rec         45.0  1.991105e+06  3.182075e+06\n",
       "146  new_lk_rec         46.0  1.858896e+06  2.726123e+06\n",
       "147  new_lk_rec         47.0  1.695438e+06  2.564411e+06\n",
       "148  new_lk_rec         48.0  1.710189e+06  3.066091e+06\n",
       "149  new_lk_rec         49.0  2.301202e+06  3.685269e+06\n",
       "\n",
       "[150 rows x 4 columns]"
      ]
     },
     "execution_count": 16,
     "metadata": {},
     "output_type": "execute_result"
    }
   ],
   "source": [
    "data_test"
   ]
  },
  {
   "cell_type": "code",
   "execution_count": 17,
   "metadata": {},
   "outputs": [
    {
     "data": {
      "text/plain": [
       "(50, 4)"
      ]
     },
     "execution_count": 17,
     "metadata": {},
     "output_type": "execute_result"
    }
   ],
   "source": [
    "data_test[data_test['test_group'] == 'new_lk_rec'].shape"
   ]
  },
  {
   "cell_type": "markdown",
   "metadata": {},
   "source": [
    "Считаем среднее предданных:"
   ]
  },
  {
   "cell_type": "code",
   "execution_count": 18,
   "metadata": {},
   "outputs": [],
   "source": [
    "data_test['pre_revenue_tg_average']=data_test.pre_revenue.mean() "
   ]
  },
  {
   "cell_type": "markdown",
   "metadata": {},
   "source": [
    "Считаем множитель для CUPED: "
   ]
  },
  {
   "cell_type": "code",
   "execution_count": 19,
   "metadata": {},
   "outputs": [
    {
     "data": {
      "text/plain": [
       "(150,)"
      ]
     },
     "execution_count": 19,
     "metadata": {},
     "output_type": "execute_result"
    }
   ],
   "source": [
    "data_test.revenue.shape"
   ]
  },
  {
   "cell_type": "code",
   "execution_count": 20,
   "metadata": {},
   "outputs": [
    {
     "data": {
      "text/plain": [
       "(150,)"
      ]
     },
     "execution_count": 20,
     "metadata": {},
     "output_type": "execute_result"
    }
   ],
   "source": [
    "data_test.pre_revenue.shape"
   ]
  },
  {
   "cell_type": "code",
   "execution_count": 21,
   "metadata": {},
   "outputs": [],
   "source": [
    "teta = np.cov(data_test.revenue,data_test.pre_revenue, ddof=1)[1,0]/np.var(data_test.pre_revenue, ddof=1)"
   ]
  },
  {
   "cell_type": "code",
   "execution_count": 22,
   "metadata": {},
   "outputs": [],
   "source": [
    "corr = np.corrcoef(data_test.revenue,data_test.pre_revenue)[1,0] "
   ]
  },
  {
   "cell_type": "markdown",
   "metadata": {},
   "source": [
    "Считаем CUPED-метрику:"
   ]
  },
  {
   "cell_type": "code",
   "execution_count": 23,
   "metadata": {},
   "outputs": [],
   "source": [
    "data_test['cuped_revenue'] = data_test.revenue - teta * (data_test.pre_revenue - data_test.pre_revenue_tg_average)"
   ]
  },
  {
   "cell_type": "markdown",
   "metadata": {},
   "source": [
    "Считаем дисперсию разности средних для обычной и CUPED-метрики.  \n",
    "Оцениваем теоретическое значение для CUPED дисперсии и посчитанное на реальных данных."
   ]
  },
  {
   "cell_type": "code",
   "execution_count": 24,
   "metadata": {},
   "outputs": [],
   "source": [
    "std_total=(data_test.groupby(['test_group'])['revenue'].var(ddof=1)[0]/50+data_test.groupby(['test_group'])['revenue'].var(ddof=1)[1]/50)**0.5"
   ]
  },
  {
   "cell_type": "code",
   "execution_count": 25,
   "metadata": {},
   "outputs": [],
   "source": [
    "std_cuped=std_total*(1-corr**2)**0.5"
   ]
  },
  {
   "cell_type": "code",
   "execution_count": 26,
   "metadata": {},
   "outputs": [
    {
     "data": {
      "text/plain": [
       "24041.778158869776"
      ]
     },
     "execution_count": 26,
     "metadata": {},
     "output_type": "execute_result"
    }
   ],
   "source": [
    "(data_test.groupby(['test_group'])['cuped_revenue'].var(ddof=1)[0]/50+data_test.groupby(['test_group'])['cuped_revenue'].var(ddof=1)[1]/50)**0.5"
   ]
  },
  {
   "cell_type": "code",
   "execution_count": 27,
   "metadata": {},
   "outputs": [
    {
     "data": {
      "text/plain": [
       "23539.84378394034"
      ]
     },
     "execution_count": 27,
     "metadata": {},
     "output_type": "execute_result"
    }
   ],
   "source": [
    "std_cuped"
   ]
  },
  {
   "cell_type": "markdown",
   "metadata": {},
   "source": [
    "Дисперсия для CUPED-метрики похожа при теоретическом расчете и для реальных данных. А вот дисперсия обычной метрики значительно выше."
   ]
  },
  {
   "cell_type": "code",
   "execution_count": 28,
   "metadata": {},
   "outputs": [
    {
     "data": {
      "text/plain": [
       "46315.23775108171"
      ]
     },
     "execution_count": 28,
     "metadata": {},
     "output_type": "execute_result"
    }
   ],
   "source": [
    "std_total"
   ]
  },
  {
   "cell_type": "code",
   "execution_count": 29,
   "metadata": {},
   "outputs": [
    {
     "data": {
      "text/plain": [
       "116898.28643690675"
      ]
     },
     "execution_count": 29,
     "metadata": {},
     "output_type": "execute_result"
    }
   ],
   "source": [
    "np.std(data_test['cuped_revenue'], ddof=1)"
   ]
  },
  {
   "cell_type": "code",
   "execution_count": 30,
   "metadata": {},
   "outputs": [
    {
     "data": {
      "text/plain": [
       "4600.006676945849"
      ]
     },
     "execution_count": 30,
     "metadata": {},
     "output_type": "execute_result"
    }
   ],
   "source": [
    "np.std(data_test['revenue'], ddof=1) / 50"
   ]
  },
  {
   "cell_type": "markdown",
   "metadata": {},
   "source": [
    "Сравним результаты применения t-теста к обычной и CUPED-метрике."
   ]
  },
  {
   "cell_type": "code",
   "execution_count": 27,
   "metadata": {},
   "outputs": [
    {
     "data": {
      "text/plain": [
       "Ttest_indResult(statistic=-0.7629734809218813, pvalue=0.4474961962789541)"
      ]
     },
     "execution_count": 27,
     "metadata": {},
     "output_type": "execute_result"
    }
   ],
   "source": [
    "stats.ttest_ind(data_test[(data_test.test_group=='new_lk')].revenue,data_test[(data_test.test_group=='control')].revenue,equal_var = False)"
   ]
  },
  {
   "cell_type": "markdown",
   "metadata": {},
   "source": [
    "Результат t-теста к CUPED метрике:"
   ]
  },
  {
   "cell_type": "code",
   "execution_count": 28,
   "metadata": {},
   "outputs": [
    {
     "data": {
      "text/plain": [
       "Ttest_indResult(statistic=-2.882124337332291, pvalue=0.004883185468346531)"
      ]
     },
     "execution_count": 28,
     "metadata": {},
     "output_type": "execute_result"
    }
   ],
   "source": [
    "stats.ttest_ind(data_test[(data_test.test_group=='new_lk')].cuped_revenue,data_test[(data_test.test_group=='control')].cuped_revenue,equal_var = False)\n"
   ]
  },
  {
   "cell_type": "markdown",
   "metadata": {},
   "source": [
    "Видно, что p-value значительно ниже 1%, а значит, мы отклонить гипотезу о равенстве средних этих выборок.\n",
    "\n",
    "Рассмотрим другую группу new_lk_rec. Ее среднее немного больше, чем в контроле."
   ]
  },
  {
   "cell_type": "code",
   "execution_count": 31,
   "metadata": {},
   "outputs": [
    {
     "data": {
      "text/plain": [
       "Ttest_indResult(statistic=0.8804806811048778, pvalue=0.38081302386744664)"
      ]
     },
     "execution_count": 31,
     "metadata": {},
     "output_type": "execute_result"
    }
   ],
   "source": [
    "stats.ttest_ind(data_test[(data_test.test_group=='new_lk_rec')].revenue,data_test[(data_test.test_group=='control')].revenue,equal_var = False)"
   ]
  },
  {
   "cell_type": "code",
   "execution_count": 32,
   "metadata": {},
   "outputs": [
    {
     "data": {
      "text/plain": [
       "Ttest_indResult(statistic=-1.5816595073366941, pvalue=0.11696897103008692)"
      ]
     },
     "execution_count": 32,
     "metadata": {},
     "output_type": "execute_result"
    }
   ],
   "source": [
    "stats.ttest_ind(data_test[(data_test.test_group=='new_lk_rec')].cuped_revenue,data_test[(data_test.test_group=='control')].cuped_revenue,equal_var = False)"
   ]
  },
  {
   "cell_type": "markdown",
   "metadata": {},
   "source": [
    "☝️ Видно, что p-value здесь больше — значит, мы не отвергаем гипотезу о равенстве средних этих выборок."
   ]
  }
 ],
 "metadata": {
  "kernelspec": {
   "display_name": "Python 3 (ipykernel)",
   "language": "python",
   "name": "python3"
  },
  "language_info": {
   "codemirror_mode": {
    "name": "ipython",
    "version": 3
   },
   "file_extension": ".py",
   "mimetype": "text/x-python",
   "name": "python",
   "nbconvert_exporter": "python",
   "pygments_lexer": "ipython3",
   "version": "3.11.4"
  },
  "toc": {
   "base_numbering": 1,
   "nav_menu": {},
   "number_sections": true,
   "sideBar": true,
   "skip_h1_title": false,
   "title_cell": "Table of Contents",
   "title_sidebar": "Contents",
   "toc_cell": false,
   "toc_position": {},
   "toc_section_display": true,
   "toc_window_display": false
  }
 },
 "nbformat": 4,
 "nbformat_minor": 4
}
